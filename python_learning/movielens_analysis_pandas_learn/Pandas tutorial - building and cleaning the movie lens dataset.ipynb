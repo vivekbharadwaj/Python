{
 "cells": [
  {
   "cell_type": "markdown",
   "metadata": {},
   "source": [
    "This is part 2 of my effort following the pandas to SQL tutorial by Greg Reda\n",
    "http://www.gregreda.com/2013/10/26/intro-to-pandas-data-structures/"
   ]
  },
  {
   "cell_type": "markdown",
   "metadata": {},
   "source": [
    "## Administrative setup"
   ]
  },
  {
   "cell_type": "code",
   "execution_count": 2,
   "metadata": {
    "collapsed": false
   },
   "outputs": [],
   "source": [
    "import pandas as pd\n",
    "import numpy as np\n",
    "import matplotlib.pyplot as plt\n",
    "pd.set_option('max_columns',100)\n",
    "%matplotlib inline\n",
    "import seaborn\n",
    "# Set seaborn aesthetic parameters to defaults - just to make plots stand out!\n",
    "seaborn.set()"
   ]
  },
  {
   "cell_type": "markdown",
   "metadata": {},
   "source": [
    "## Introducting the movielens dataset"
   ]
  },
  {
   "cell_type": "markdown",
   "metadata": {},
   "source": [
    "A very cool dataset comprising of 100,000 ratings made by 943 users on 1,682 movies.\n",
    "\n",
    "I've downloaded the movielens dataset from <a href=\"http://grouplens.org/datasets/movielens/\">here</a>. The folder ml-100k has a README  that has descriptions for most of the files we will use."
   ]
  },
  {
   "cell_type": "markdown",
   "metadata": {},
   "source": [
    "### Ingesting the data"
   ]
  },
  {
   "cell_type": "code",
   "execution_count": 3,
   "metadata": {
    "collapsed": false
   },
   "outputs": [
    {
     "data": {
      "text/html": [
       "<div>\n",
       "<table border=\"1\" class=\"dataframe\">\n",
       "  <thead>\n",
       "    <tr style=\"text-align: right;\">\n",
       "      <th></th>\n",
       "      <th>user_id</th>\n",
       "      <th>age</th>\n",
       "      <th>gender</th>\n",
       "      <th>occupation</th>\n",
       "      <th>zip_code</th>\n",
       "    </tr>\n",
       "  </thead>\n",
       "  <tbody>\n",
       "    <tr>\n",
       "      <th>0</th>\n",
       "      <td>1</td>\n",
       "      <td>24</td>\n",
       "      <td>M</td>\n",
       "      <td>technician</td>\n",
       "      <td>85711</td>\n",
       "    </tr>\n",
       "    <tr>\n",
       "      <th>1</th>\n",
       "      <td>2</td>\n",
       "      <td>53</td>\n",
       "      <td>F</td>\n",
       "      <td>other</td>\n",
       "      <td>94043</td>\n",
       "    </tr>\n",
       "    <tr>\n",
       "      <th>2</th>\n",
       "      <td>3</td>\n",
       "      <td>23</td>\n",
       "      <td>M</td>\n",
       "      <td>writer</td>\n",
       "      <td>32067</td>\n",
       "    </tr>\n",
       "  </tbody>\n",
       "</table>\n",
       "</div>"
      ],
      "text/plain": [
       "   user_id  age gender  occupation zip_code\n",
       "0        1   24      M  technician    85711\n",
       "1        2   53      F       other    94043\n",
       "2        3   23      M      writer    32067"
      ]
     },
     "execution_count": 3,
     "metadata": {},
     "output_type": "execute_result"
    }
   ],
   "source": [
    "# ingesting the users dataset. firstly, i got an idea about the columns from the readme. \n",
    "u_cols = ['user_id','age','gender','occupation','zip_code']\n",
    "users = pd.read_csv('~/Downloads/ml-100k/u.user',sep = '|', names=u_cols)\n",
    "users.head(3)"
   ]
  },
  {
   "cell_type": "code",
   "execution_count": 4,
   "metadata": {
    "collapsed": false
   },
   "outputs": [
    {
     "data": {
      "text/html": [
       "<div>\n",
       "<table border=\"1\" class=\"dataframe\">\n",
       "  <thead>\n",
       "    <tr style=\"text-align: right;\">\n",
       "      <th></th>\n",
       "      <th>movie_id</th>\n",
       "      <th>title</th>\n",
       "      <th>release_date</th>\n",
       "      <th>video_release_date</th>\n",
       "      <th>imdb_url</th>\n",
       "      <th>Unknown</th>\n",
       "      <th>Action</th>\n",
       "      <th>Adventure</th>\n",
       "    </tr>\n",
       "  </thead>\n",
       "  <tbody>\n",
       "    <tr>\n",
       "      <th>0</th>\n",
       "      <td>1</td>\n",
       "      <td>Toy Story (1995)</td>\n",
       "      <td>01-Jan-1995</td>\n",
       "      <td>NaN</td>\n",
       "      <td>http://us.imdb.com/M/title-exact?Toy%20Story%2...</td>\n",
       "      <td>0</td>\n",
       "      <td>0</td>\n",
       "      <td>0</td>\n",
       "    </tr>\n",
       "    <tr>\n",
       "      <th>1</th>\n",
       "      <td>2</td>\n",
       "      <td>GoldenEye (1995)</td>\n",
       "      <td>01-Jan-1995</td>\n",
       "      <td>NaN</td>\n",
       "      <td>http://us.imdb.com/M/title-exact?GoldenEye%20(...</td>\n",
       "      <td>0</td>\n",
       "      <td>1</td>\n",
       "      <td>1</td>\n",
       "    </tr>\n",
       "    <tr>\n",
       "      <th>2</th>\n",
       "      <td>3</td>\n",
       "      <td>Four Rooms (1995)</td>\n",
       "      <td>01-Jan-1995</td>\n",
       "      <td>NaN</td>\n",
       "      <td>http://us.imdb.com/M/title-exact?Four%20Rooms%...</td>\n",
       "      <td>0</td>\n",
       "      <td>0</td>\n",
       "      <td>0</td>\n",
       "    </tr>\n",
       "  </tbody>\n",
       "</table>\n",
       "</div>"
      ],
      "text/plain": [
       "   movie_id              title release_date  video_release_date  \\\n",
       "0         1   Toy Story (1995)  01-Jan-1995                 NaN   \n",
       "1         2   GoldenEye (1995)  01-Jan-1995                 NaN   \n",
       "2         3  Four Rooms (1995)  01-Jan-1995                 NaN   \n",
       "\n",
       "                                            imdb_url  Unknown  Action  \\\n",
       "0  http://us.imdb.com/M/title-exact?Toy%20Story%2...        0       0   \n",
       "1  http://us.imdb.com/M/title-exact?GoldenEye%20(...        0       1   \n",
       "2  http://us.imdb.com/M/title-exact?Four%20Rooms%...        0       0   \n",
       "\n",
       "   Adventure  \n",
       "0          0  \n",
       "1          1  \n",
       "2          0  "
      ]
     },
     "execution_count": 4,
     "metadata": {},
     "output_type": "execute_result"
    }
   ],
   "source": [
    "# the movies file contains columns indicating the movie's genres\n",
    "# now, the readme reveals that the first 5 columns of this dataset are descriptors\n",
    "# and the remaining columns are feature variables for each genre. Let's keep the first 3\n",
    "# feature variables for kicks but drop the rest. I don't want to clutter the dataset visually.\n",
    "m_cols = ['movie_id', 'title', 'release_date', 'video_release_date', 'imdb_url','Unknown',\n",
    "          'Action','Adventure']\n",
    "movies = pd.read_csv('~/Downloads/ml-100k/u.item', sep='|', names=m_cols, usecols = range(8))\n",
    "movies.head(3)"
   ]
  },
  {
   "cell_type": "markdown",
   "metadata": {},
   "source": [
    "Note that I had to use the parameter \"usecols\" and limit the dataset extraction to only the first 8 columns. This is the only case where simply specifying the \"names\" parameter isn't sufficient. If we don't specify usecols, then the column names apply to the last 8 columns only. Makes sense when you think about it, doesn't it? Data is read from the file first and then names needs to be applied in the order of doing things."
   ]
  },
  {
   "cell_type": "code",
   "execution_count": 5,
   "metadata": {
    "collapsed": false
   },
   "outputs": [
    {
     "data": {
      "text/html": [
       "<div>\n",
       "<table border=\"1\" class=\"dataframe\">\n",
       "  <thead>\n",
       "    <tr style=\"text-align: right;\">\n",
       "      <th></th>\n",
       "      <th>user_id</th>\n",
       "      <th>movie_id</th>\n",
       "      <th>rating</th>\n",
       "      <th>unix_timestamp</th>\n",
       "    </tr>\n",
       "  </thead>\n",
       "  <tbody>\n",
       "    <tr>\n",
       "      <th>0</th>\n",
       "      <td>196</td>\n",
       "      <td>242</td>\n",
       "      <td>3</td>\n",
       "      <td>881250949</td>\n",
       "    </tr>\n",
       "    <tr>\n",
       "      <th>1</th>\n",
       "      <td>186</td>\n",
       "      <td>302</td>\n",
       "      <td>3</td>\n",
       "      <td>891717742</td>\n",
       "    </tr>\n",
       "    <tr>\n",
       "      <th>2</th>\n",
       "      <td>22</td>\n",
       "      <td>377</td>\n",
       "      <td>1</td>\n",
       "      <td>878887116</td>\n",
       "    </tr>\n",
       "  </tbody>\n",
       "</table>\n",
       "</div>"
      ],
      "text/plain": [
       "   user_id  movie_id  rating  unix_timestamp\n",
       "0      196       242       3       881250949\n",
       "1      186       302       3       891717742\n",
       "2       22       377       1       878887116"
      ]
     },
     "execution_count": 5,
     "metadata": {},
     "output_type": "execute_result"
    }
   ],
   "source": [
    "# similarly for ratings\n",
    "r_cols = ['user_id', 'movie_id', 'rating', 'unix_timestamp']\n",
    "ratings = pd.read_csv('~/Downloads/ml-100k/u.data', sep='\\t', names=r_cols)\n",
    "ratings.head(3)"
   ]
  },
  {
   "cell_type": "markdown",
   "metadata": {},
   "source": [
    "### Inspecting the dataset"
   ]
  },
  {
   "cell_type": "code",
   "execution_count": 6,
   "metadata": {
    "collapsed": false
   },
   "outputs": [
    {
     "name": "stdout",
     "output_type": "stream",
     "text": [
      "<class 'pandas.core.frame.DataFrame'>\n",
      "Int64Index: 1682 entries, 0 to 1681\n",
      "Data columns (total 8 columns):\n",
      "movie_id              1682 non-null int64\n",
      "title                 1682 non-null object\n",
      "release_date          1681 non-null object\n",
      "video_release_date    0 non-null float64\n",
      "imdb_url              1679 non-null object\n",
      "Unknown               1682 non-null int64\n",
      "Action                1682 non-null int64\n",
      "Adventure             1682 non-null int64\n",
      "dtypes: float64(1), int64(4), object(3)\n",
      "memory usage: 118.3+ KB\n"
     ]
    }
   ],
   "source": [
    "movies.info()"
   ]
  },
  {
   "cell_type": "code",
   "execution_count": 7,
   "metadata": {
    "collapsed": false
   },
   "outputs": [
    {
     "data": {
      "text/plain": [
       "movie_id                int64\n",
       "title                  object\n",
       "release_date           object\n",
       "video_release_date    float64\n",
       "imdb_url               object\n",
       "Unknown                 int64\n",
       "Action                  int64\n",
       "Adventure               int64\n",
       "dtype: object"
      ]
     },
     "execution_count": 7,
     "metadata": {},
     "output_type": "execute_result"
    }
   ],
   "source": [
    "movies.dtypes"
   ]
  },
  {
   "cell_type": "code",
   "execution_count": 8,
   "metadata": {
    "collapsed": false
   },
   "outputs": [
    {
     "data": {
      "text/html": [
       "<div>\n",
       "<table border=\"1\" class=\"dataframe\">\n",
       "  <thead>\n",
       "    <tr style=\"text-align: right;\">\n",
       "      <th></th>\n",
       "      <th>user_id</th>\n",
       "      <th>age</th>\n",
       "    </tr>\n",
       "  </thead>\n",
       "  <tbody>\n",
       "    <tr>\n",
       "      <th>count</th>\n",
       "      <td>943.000000</td>\n",
       "      <td>943.000000</td>\n",
       "    </tr>\n",
       "    <tr>\n",
       "      <th>mean</th>\n",
       "      <td>472.000000</td>\n",
       "      <td>34.051962</td>\n",
       "    </tr>\n",
       "    <tr>\n",
       "      <th>std</th>\n",
       "      <td>272.364951</td>\n",
       "      <td>12.192740</td>\n",
       "    </tr>\n",
       "    <tr>\n",
       "      <th>min</th>\n",
       "      <td>1.000000</td>\n",
       "      <td>7.000000</td>\n",
       "    </tr>\n",
       "    <tr>\n",
       "      <th>25%</th>\n",
       "      <td>236.500000</td>\n",
       "      <td>25.000000</td>\n",
       "    </tr>\n",
       "    <tr>\n",
       "      <th>50%</th>\n",
       "      <td>472.000000</td>\n",
       "      <td>31.000000</td>\n",
       "    </tr>\n",
       "    <tr>\n",
       "      <th>75%</th>\n",
       "      <td>707.500000</td>\n",
       "      <td>43.000000</td>\n",
       "    </tr>\n",
       "    <tr>\n",
       "      <th>max</th>\n",
       "      <td>943.000000</td>\n",
       "      <td>73.000000</td>\n",
       "    </tr>\n",
       "  </tbody>\n",
       "</table>\n",
       "</div>"
      ],
      "text/plain": [
       "          user_id         age\n",
       "count  943.000000  943.000000\n",
       "mean   472.000000   34.051962\n",
       "std    272.364951   12.192740\n",
       "min      1.000000    7.000000\n",
       "25%    236.500000   25.000000\n",
       "50%    472.000000   31.000000\n",
       "75%    707.500000   43.000000\n",
       "max    943.000000   73.000000"
      ]
     },
     "execution_count": 8,
     "metadata": {},
     "output_type": "execute_result"
    }
   ],
   "source": [
    "users.describe()"
   ]
  },
  {
   "cell_type": "markdown",
   "metadata": {},
   "source": [
    "You can slice the dataset in any way you want, like so - "
   ]
  },
  {
   "cell_type": "code",
   "execution_count": 9,
   "metadata": {
    "collapsed": false
   },
   "outputs": [
    {
     "data": {
      "text/html": [
       "<div>\n",
       "<table border=\"1\" class=\"dataframe\">\n",
       "  <thead>\n",
       "    <tr style=\"text-align: right;\">\n",
       "      <th></th>\n",
       "      <th>movie_id</th>\n",
       "      <th>title</th>\n",
       "      <th>release_date</th>\n",
       "      <th>video_release_date</th>\n",
       "      <th>imdb_url</th>\n",
       "      <th>Unknown</th>\n",
       "      <th>Action</th>\n",
       "      <th>Adventure</th>\n",
       "    </tr>\n",
       "  </thead>\n",
       "  <tbody>\n",
       "    <tr>\n",
       "      <th>20</th>\n",
       "      <td>21</td>\n",
       "      <td>Muppet Treasure Island (1996)</td>\n",
       "      <td>16-Feb-1996</td>\n",
       "      <td>NaN</td>\n",
       "      <td>http://us.imdb.com/M/title-exact?Muppet%20Trea...</td>\n",
       "      <td>0</td>\n",
       "      <td>1</td>\n",
       "      <td>1</td>\n",
       "    </tr>\n",
       "    <tr>\n",
       "      <th>21</th>\n",
       "      <td>22</td>\n",
       "      <td>Braveheart (1995)</td>\n",
       "      <td>16-Feb-1996</td>\n",
       "      <td>NaN</td>\n",
       "      <td>http://us.imdb.com/M/title-exact?Braveheart%20...</td>\n",
       "      <td>0</td>\n",
       "      <td>1</td>\n",
       "      <td>0</td>\n",
       "    </tr>\n",
       "    <tr>\n",
       "      <th>22</th>\n",
       "      <td>23</td>\n",
       "      <td>Taxi Driver (1976)</td>\n",
       "      <td>16-Feb-1996</td>\n",
       "      <td>NaN</td>\n",
       "      <td>http://us.imdb.com/M/title-exact?Taxi%20Driver...</td>\n",
       "      <td>0</td>\n",
       "      <td>0</td>\n",
       "      <td>0</td>\n",
       "    </tr>\n",
       "  </tbody>\n",
       "</table>\n",
       "</div>"
      ],
      "text/plain": [
       "    movie_id                          title release_date  video_release_date  \\\n",
       "20        21  Muppet Treasure Island (1996)  16-Feb-1996                 NaN   \n",
       "21        22              Braveheart (1995)  16-Feb-1996                 NaN   \n",
       "22        23             Taxi Driver (1976)  16-Feb-1996                 NaN   \n",
       "\n",
       "                                             imdb_url  Unknown  Action  \\\n",
       "20  http://us.imdb.com/M/title-exact?Muppet%20Trea...        0       1   \n",
       "21  http://us.imdb.com/M/title-exact?Braveheart%20...        0       1   \n",
       "22  http://us.imdb.com/M/title-exact?Taxi%20Driver...        0       0   \n",
       "\n",
       "    Adventure  \n",
       "20          1  \n",
       "21          0  \n",
       "22          0  "
      ]
     },
     "execution_count": 9,
     "metadata": {},
     "output_type": "execute_result"
    }
   ],
   "source": [
    "movies[20:23]"
   ]
  },
  {
   "cell_type": "markdown",
   "metadata": {},
   "source": [
    "The info method can be used to glance into the dataset as a combination of head and tail, by simply not putting the (), like so - "
   ]
  },
  {
   "cell_type": "code",
   "execution_count": 10,
   "metadata": {
    "collapsed": false
   },
   "outputs": [
    {
     "data": {
      "text/plain": [
       "<bound method DataFrame.info of        user_id  movie_id  rating  unix_timestamp\n",
       "0          196       242       3       881250949\n",
       "1          186       302       3       891717742\n",
       "2           22       377       1       878887116\n",
       "3          244        51       2       880606923\n",
       "4          166       346       1       886397596\n",
       "5          298       474       4       884182806\n",
       "6          115       265       2       881171488\n",
       "7          253       465       5       891628467\n",
       "8          305       451       3       886324817\n",
       "9            6        86       3       883603013\n",
       "10          62       257       2       879372434\n",
       "11         286      1014       5       879781125\n",
       "12         200       222       5       876042340\n",
       "13         210        40       3       891035994\n",
       "14         224        29       3       888104457\n",
       "15         303       785       3       879485318\n",
       "16         122       387       5       879270459\n",
       "17         194       274       2       879539794\n",
       "18         291      1042       4       874834944\n",
       "19         234      1184       2       892079237\n",
       "20         119       392       4       886176814\n",
       "21         167       486       4       892738452\n",
       "22         299       144       4       877881320\n",
       "23         291       118       2       874833878\n",
       "24         308         1       4       887736532\n",
       "25          95       546       2       879196566\n",
       "26          38        95       5       892430094\n",
       "27         102       768       2       883748450\n",
       "28          63       277       4       875747401\n",
       "29         160       234       5       876861185\n",
       "...        ...       ...     ...             ...\n",
       "99970      449       120       1       879959573\n",
       "99971      661       762       2       876037121\n",
       "99972      721       874       3       877137447\n",
       "99973      821       151       4       874792889\n",
       "99974      764       596       3       876243046\n",
       "99975      537       443       3       886031752\n",
       "99976      618       628       2       891308019\n",
       "99977      487       291       3       883445079\n",
       "99978      113       975       5       875936424\n",
       "99979      943       391       2       888640291\n",
       "99980      864       685       4       888891900\n",
       "99981      750       323       3       879445877\n",
       "99982      279        64       1       875308510\n",
       "99983      646       750       3       888528902\n",
       "99984      654       370       2       887863914\n",
       "99985      617       582       4       883789294\n",
       "99986      913       690       3       880824288\n",
       "99987      660       229       2       891406212\n",
       "99988      421       498       4       892241344\n",
       "99989      495      1091       4       888637503\n",
       "99990      806       421       4       882388897\n",
       "99991      676       538       4       892685437\n",
       "99992      721       262       3       877137285\n",
       "99993      913       209       2       881367150\n",
       "99994      378        78       3       880056976\n",
       "99995      880       476       3       880175444\n",
       "99996      716       204       5       879795543\n",
       "99997      276      1090       1       874795795\n",
       "99998       13       225       2       882399156\n",
       "99999       12       203       3       879959583\n",
       "\n",
       "[100000 rows x 4 columns]>"
      ]
     },
     "execution_count": 10,
     "metadata": {},
     "output_type": "execute_result"
    }
   ],
   "source": [
    "ratings.info"
   ]
  },
  {
   "cell_type": "markdown",
   "metadata": {},
   "source": [
    "### Selecting information from the dataset"
   ]
  },
  {
   "cell_type": "code",
   "execution_count": 11,
   "metadata": {
    "collapsed": false
   },
   "outputs": [
    {
     "data": {
      "text/plain": [
       "0    technician\n",
       "1         other\n",
       "2        writer\n",
       "3    technician\n",
       "4         other\n",
       "Name: occupation, dtype: object"
      ]
     },
     "execution_count": 11,
     "metadata": {},
     "output_type": "execute_result"
    }
   ],
   "source": [
    "users['occupation'].head()"
   ]
  },
  {
   "cell_type": "code",
   "execution_count": 12,
   "metadata": {
    "collapsed": false
   },
   "outputs": [
    {
     "data": {
      "text/plain": [
       "student          196\n",
       "other            105\n",
       "educator          95\n",
       "administrator     79\n",
       "engineer          67\n",
       "programmer        66\n",
       "librarian         51\n",
       "writer            45\n",
       "executive         32\n",
       "scientist         31\n",
       "artist            28\n",
       "technician        27\n",
       "marketing         26\n",
       "entertainment     18\n",
       "healthcare        16\n",
       "retired           14\n",
       "salesman          12\n",
       "lawyer            12\n",
       "none               9\n",
       "homemaker          7\n",
       "doctor             7\n",
       "Name: occupation, dtype: int64"
      ]
     },
     "execution_count": 12,
     "metadata": {},
     "output_type": "execute_result"
    }
   ],
   "source": [
    "users['occupation'].value_counts()"
   ]
  },
  {
   "cell_type": "markdown",
   "metadata": {},
   "source": [
    "Multiple columns can be selected, and even passed into a variable for other operations"
   ]
  },
  {
   "cell_type": "code",
   "execution_count": 13,
   "metadata": {
    "collapsed": false
   },
   "outputs": [
    {
     "name": "stdout",
     "output_type": "stream",
     "text": [
      "   age  occupation\n",
      "0   24  technician\n",
      "1   53       other\n",
      "2   23      writer\n",
      "3   24  technician\n",
      "4   33       other\n",
      "\n",
      "\n",
      "   age  occupation\n",
      "0   24  technician\n",
      "1   53       other\n",
      "2   23      writer\n",
      "3   24  technician\n",
      "4   33       other\n"
     ]
    }
   ],
   "source": [
    "print users[['age','occupation']].head()\n",
    "print '\\n'\n",
    "\n",
    "# can also store into variable for use later\n",
    "columns_for_use = ['age','occupation']\n",
    "print users[columns_for_use].head()"
   ]
  },
  {
   "cell_type": "markdown",
   "metadata": {},
   "source": [
    "Notice that i used [[ and ]] in the former command, but only single [ and ] when using the columns_for_use variable. A double bracket signifies a list of a list."
   ]
  },
  {
   "cell_type": "markdown",
   "metadata": {},
   "source": [
    "Row selection is like subsetting"
   ]
  },
  {
   "cell_type": "code",
   "execution_count": 14,
   "metadata": {
    "collapsed": false
   },
   "outputs": [
    {
     "name": "stdout",
     "output_type": "stream",
     "text": [
      "   user_id  age gender occupation zip_code\n",
      "1        2   53      F      other    94043\n",
      "4        5   33      F      other    15213\n",
      "5        6   42      M  executive    98101\n",
      "\n",
      "\n",
      "     user_id  age gender  occupation zip_code\n",
      "18        19   40      M   librarian    02138\n",
      "82        83   40      M       other    44133\n",
      "115      116   40      M  healthcare    97232\n",
      "\n",
      "\n",
      "   user_id  age gender  occupation zip_code\n",
      "0        1   24      M  technician    85711\n",
      "1        2   53      F       other    94043\n",
      "2        3   23      M      writer    32067\n"
     ]
    }
   ],
   "source": [
    "# users older than 25\n",
    "print users[users['age'] > 25].head(3)\n",
    "print '\\n'\n",
    "\n",
    "# users aged 40 and male\n",
    "print users[(users['age'] == 40) & (users['gender'] == 'M')].head(3)\n",
    "print '\\n'\n",
    "\n",
    "# users younger than 30 OR female\n",
    "print users[(users['age'] < 30) | (users['gender'] == 'F')].head(3)"
   ]
  },
  {
   "cell_type": "markdown",
   "metadata": {},
   "source": [
    "One learning for me was that if 2 conditions are being evaluated simultaneously, then it needs to be enclosed within round brackets. Otherwise the interpreter considers the entire expression together, which is meaningless."
   ]
  },
  {
   "cell_type": "markdown",
   "metadata": {},
   "source": [
    "Note that the index on the users dataset above is meaningless. Let's check if the user id is indeed unique"
   ]
  },
  {
   "cell_type": "code",
   "execution_count": 15,
   "metadata": {
    "collapsed": false
   },
   "outputs": [
    {
     "name": "stdout",
     "output_type": "stream",
     "text": [
      "943\n",
      "943\n"
     ]
    }
   ],
   "source": [
    "print len(users['user_id'])\n",
    "print len(users['user_id'].unique())"
   ]
  },
  {
   "cell_type": "markdown",
   "metadata": {},
   "source": [
    "So we can set user_id as a unique index. Setting it inplace."
   ]
  },
  {
   "cell_type": "code",
   "execution_count": 16,
   "metadata": {
    "collapsed": false
   },
   "outputs": [
    {
     "name": "stdout",
     "output_type": "stream",
     "text": [
      "   user_id  age gender  occupation zip_code\n",
      "0        1   24      M  technician    85711\n",
      "1        2   53      F       other    94043\n",
      "2        3   23      M      writer    32067\n",
      "\n",
      "\n",
      "         age gender  occupation zip_code\n",
      "user_id                                 \n",
      "1         24      M  technician    85711\n",
      "2         53      F       other    94043\n",
      "3         23      M      writer    32067\n"
     ]
    }
   ],
   "source": [
    "print users.head(3)\n",
    "print '\\n'\n",
    "\n",
    "users.set_index('user_id', inplace = True)\n",
    "print users.head(3)"
   ]
  },
  {
   "cell_type": "markdown",
   "metadata": {},
   "source": [
    "Notice that we have lost the pandas default index. We can select rows based on the index. This has applications when you think of non-numeric indices\n",
    "\n",
    "Similarly you can use the following command to get the old pandas default index.\n",
    "\n",
    "<b>users.reset_index(inplace = True)"
   ]
  },
  {
   "cell_type": "code",
   "execution_count": 17,
   "metadata": {
    "collapsed": false
   },
   "outputs": [
    {
     "name": "stdout",
     "output_type": "stream",
     "text": [
      "         age gender  occupation zip_code\n",
      "user_id                                 \n",
      "1         24      M  technician    85711\n",
      "50        21      M      writer    52245\n",
      "300       26      F  programmer    55106\n"
     ]
    }
   ],
   "source": [
    "print users.ix[[1,50,300]]"
   ]
  },
  {
   "cell_type": "markdown",
   "metadata": {},
   "source": [
    "Mind you, you can select numeric indices using the \":\" operator like we saw in the subsetting example. But for some reason, you can't select indices as a list of a list. You get an indices out of bound error. Interesting to note that the lower bound needs to be 1 value lower than the number you want. So, specify lower bound as 0 if you want user_id 1."
   ]
  },
  {
   "cell_type": "code",
   "execution_count": 18,
   "metadata": {
    "collapsed": false
   },
   "outputs": [
    {
     "name": "stdout",
     "output_type": "stream",
     "text": [
      "         age gender  occupation zip_code\n",
      "user_id                                 \n",
      "1         24      M  technician    85711\n",
      "2         53      F       other    94043\n",
      "3         23      M      writer    32067\n",
      "4         24      M  technician    43537\n",
      "5         33      F       other    15213\n"
     ]
    }
   ],
   "source": [
    "print users[0:5]"
   ]
  },
  {
   "cell_type": "code",
   "execution_count": 19,
   "metadata": {
    "collapsed": false
   },
   "outputs": [
    {
     "ename": "IndexError",
     "evalue": "indices are out-of-bounds",
     "output_type": "error",
     "traceback": [
      "\u001b[0;31m---------------------------------------------------------------------------\u001b[0m",
      "\u001b[0;31mIndexError\u001b[0m                                Traceback (most recent call last)",
      "\u001b[0;32m<ipython-input-19-d6fc27318770>\u001b[0m in \u001b[0;36m<module>\u001b[0;34m()\u001b[0m\n\u001b[0;32m----> 1\u001b[0;31m \u001b[0;32mprint\u001b[0m \u001b[0musers\u001b[0m\u001b[0;34m[\u001b[0m\u001b[0;34m[\u001b[0m\u001b[0;36m1\u001b[0m\u001b[0;34m,\u001b[0m\u001b[0;36m2\u001b[0m\u001b[0;34m,\u001b[0m\u001b[0;36m3\u001b[0m\u001b[0;34m,\u001b[0m\u001b[0;36m4\u001b[0m\u001b[0;34m,\u001b[0m\u001b[0;36m5\u001b[0m\u001b[0;34m]\u001b[0m\u001b[0;34m]\u001b[0m\u001b[0;34m\u001b[0m\u001b[0m\n\u001b[0m",
      "\u001b[0;32m/Users/Vivek/anaconda/lib/python2.7/site-packages/pandas/core/frame.pyc\u001b[0m in \u001b[0;36m__getitem__\u001b[0;34m(self, key)\u001b[0m\n\u001b[1;32m   1961\u001b[0m         \u001b[0;32mif\u001b[0m \u001b[0misinstance\u001b[0m\u001b[0;34m(\u001b[0m\u001b[0mkey\u001b[0m\u001b[0;34m,\u001b[0m \u001b[0;34m(\u001b[0m\u001b[0mSeries\u001b[0m\u001b[0;34m,\u001b[0m \u001b[0mnp\u001b[0m\u001b[0;34m.\u001b[0m\u001b[0mndarray\u001b[0m\u001b[0;34m,\u001b[0m \u001b[0mIndex\u001b[0m\u001b[0;34m,\u001b[0m \u001b[0mlist\u001b[0m\u001b[0;34m)\u001b[0m\u001b[0;34m)\u001b[0m\u001b[0;34m:\u001b[0m\u001b[0;34m\u001b[0m\u001b[0m\n\u001b[1;32m   1962\u001b[0m             \u001b[0;31m# either boolean or fancy integer index\u001b[0m\u001b[0;34m\u001b[0m\u001b[0;34m\u001b[0m\u001b[0m\n\u001b[0;32m-> 1963\u001b[0;31m             \u001b[0;32mreturn\u001b[0m \u001b[0mself\u001b[0m\u001b[0;34m.\u001b[0m\u001b[0m_getitem_array\u001b[0m\u001b[0;34m(\u001b[0m\u001b[0mkey\u001b[0m\u001b[0;34m)\u001b[0m\u001b[0;34m\u001b[0m\u001b[0m\n\u001b[0m\u001b[1;32m   1964\u001b[0m         \u001b[0;32melif\u001b[0m \u001b[0misinstance\u001b[0m\u001b[0;34m(\u001b[0m\u001b[0mkey\u001b[0m\u001b[0;34m,\u001b[0m \u001b[0mDataFrame\u001b[0m\u001b[0;34m)\u001b[0m\u001b[0;34m:\u001b[0m\u001b[0;34m\u001b[0m\u001b[0m\n\u001b[1;32m   1965\u001b[0m             \u001b[0;32mreturn\u001b[0m \u001b[0mself\u001b[0m\u001b[0;34m.\u001b[0m\u001b[0m_getitem_frame\u001b[0m\u001b[0;34m(\u001b[0m\u001b[0mkey\u001b[0m\u001b[0;34m)\u001b[0m\u001b[0;34m\u001b[0m\u001b[0m\n",
      "\u001b[0;32m/Users/Vivek/anaconda/lib/python2.7/site-packages/pandas/core/frame.pyc\u001b[0m in \u001b[0;36m_getitem_array\u001b[0;34m(self, key)\u001b[0m\n\u001b[1;32m   2006\u001b[0m         \u001b[0;32melse\u001b[0m\u001b[0;34m:\u001b[0m\u001b[0;34m\u001b[0m\u001b[0m\n\u001b[1;32m   2007\u001b[0m             \u001b[0mindexer\u001b[0m \u001b[0;34m=\u001b[0m \u001b[0mself\u001b[0m\u001b[0;34m.\u001b[0m\u001b[0mix\u001b[0m\u001b[0;34m.\u001b[0m\u001b[0m_convert_to_indexer\u001b[0m\u001b[0;34m(\u001b[0m\u001b[0mkey\u001b[0m\u001b[0;34m,\u001b[0m \u001b[0maxis\u001b[0m\u001b[0;34m=\u001b[0m\u001b[0;36m1\u001b[0m\u001b[0;34m)\u001b[0m\u001b[0;34m\u001b[0m\u001b[0m\n\u001b[0;32m-> 2008\u001b[0;31m             \u001b[0;32mreturn\u001b[0m \u001b[0mself\u001b[0m\u001b[0;34m.\u001b[0m\u001b[0mtake\u001b[0m\u001b[0;34m(\u001b[0m\u001b[0mindexer\u001b[0m\u001b[0;34m,\u001b[0m \u001b[0maxis\u001b[0m\u001b[0;34m=\u001b[0m\u001b[0;36m1\u001b[0m\u001b[0;34m,\u001b[0m \u001b[0mconvert\u001b[0m\u001b[0;34m=\u001b[0m\u001b[0mTrue\u001b[0m\u001b[0;34m)\u001b[0m\u001b[0;34m\u001b[0m\u001b[0m\n\u001b[0m\u001b[1;32m   2009\u001b[0m \u001b[0;34m\u001b[0m\u001b[0m\n\u001b[1;32m   2010\u001b[0m     \u001b[0;32mdef\u001b[0m \u001b[0m_getitem_multilevel\u001b[0m\u001b[0;34m(\u001b[0m\u001b[0mself\u001b[0m\u001b[0;34m,\u001b[0m \u001b[0mkey\u001b[0m\u001b[0;34m)\u001b[0m\u001b[0;34m:\u001b[0m\u001b[0;34m\u001b[0m\u001b[0m\n",
      "\u001b[0;32m/Users/Vivek/anaconda/lib/python2.7/site-packages/pandas/core/generic.pyc\u001b[0m in \u001b[0;36mtake\u001b[0;34m(self, indices, axis, convert, is_copy)\u001b[0m\n\u001b[1;32m   1369\u001b[0m         new_data = self._data.take(indices,\n\u001b[1;32m   1370\u001b[0m                                    \u001b[0maxis\u001b[0m\u001b[0;34m=\u001b[0m\u001b[0mself\u001b[0m\u001b[0;34m.\u001b[0m\u001b[0m_get_block_manager_axis\u001b[0m\u001b[0;34m(\u001b[0m\u001b[0maxis\u001b[0m\u001b[0;34m)\u001b[0m\u001b[0;34m,\u001b[0m\u001b[0;34m\u001b[0m\u001b[0m\n\u001b[0;32m-> 1371\u001b[0;31m                                    convert=True, verify=True)\n\u001b[0m\u001b[1;32m   1372\u001b[0m         \u001b[0mresult\u001b[0m \u001b[0;34m=\u001b[0m \u001b[0mself\u001b[0m\u001b[0;34m.\u001b[0m\u001b[0m_constructor\u001b[0m\u001b[0;34m(\u001b[0m\u001b[0mnew_data\u001b[0m\u001b[0;34m)\u001b[0m\u001b[0;34m.\u001b[0m\u001b[0m__finalize__\u001b[0m\u001b[0;34m(\u001b[0m\u001b[0mself\u001b[0m\u001b[0;34m)\u001b[0m\u001b[0;34m\u001b[0m\u001b[0m\n\u001b[1;32m   1373\u001b[0m \u001b[0;34m\u001b[0m\u001b[0m\n",
      "\u001b[0;32m/Users/Vivek/anaconda/lib/python2.7/site-packages/pandas/core/internals.pyc\u001b[0m in \u001b[0;36mtake\u001b[0;34m(self, indexer, axis, verify, convert)\u001b[0m\n\u001b[1;32m   3617\u001b[0m         \u001b[0mn\u001b[0m \u001b[0;34m=\u001b[0m \u001b[0mself\u001b[0m\u001b[0;34m.\u001b[0m\u001b[0mshape\u001b[0m\u001b[0;34m[\u001b[0m\u001b[0maxis\u001b[0m\u001b[0;34m]\u001b[0m\u001b[0;34m\u001b[0m\u001b[0m\n\u001b[1;32m   3618\u001b[0m         \u001b[0;32mif\u001b[0m \u001b[0mconvert\u001b[0m\u001b[0;34m:\u001b[0m\u001b[0;34m\u001b[0m\u001b[0m\n\u001b[0;32m-> 3619\u001b[0;31m             \u001b[0mindexer\u001b[0m \u001b[0;34m=\u001b[0m \u001b[0mmaybe_convert_indices\u001b[0m\u001b[0;34m(\u001b[0m\u001b[0mindexer\u001b[0m\u001b[0;34m,\u001b[0m \u001b[0mn\u001b[0m\u001b[0;34m)\u001b[0m\u001b[0;34m\u001b[0m\u001b[0m\n\u001b[0m\u001b[1;32m   3620\u001b[0m \u001b[0;34m\u001b[0m\u001b[0m\n\u001b[1;32m   3621\u001b[0m         \u001b[0;32mif\u001b[0m \u001b[0mverify\u001b[0m\u001b[0;34m:\u001b[0m\u001b[0;34m\u001b[0m\u001b[0m\n",
      "\u001b[0;32m/Users/Vivek/anaconda/lib/python2.7/site-packages/pandas/core/indexing.pyc\u001b[0m in \u001b[0;36mmaybe_convert_indices\u001b[0;34m(indices, n)\u001b[0m\n\u001b[1;32m   1748\u001b[0m     \u001b[0mmask\u001b[0m \u001b[0;34m=\u001b[0m \u001b[0;34m(\u001b[0m\u001b[0mindices\u001b[0m \u001b[0;34m>=\u001b[0m \u001b[0mn\u001b[0m\u001b[0;34m)\u001b[0m \u001b[0;34m|\u001b[0m \u001b[0;34m(\u001b[0m\u001b[0mindices\u001b[0m \u001b[0;34m<\u001b[0m \u001b[0;36m0\u001b[0m\u001b[0;34m)\u001b[0m\u001b[0;34m\u001b[0m\u001b[0m\n\u001b[1;32m   1749\u001b[0m     \u001b[0;32mif\u001b[0m \u001b[0mmask\u001b[0m\u001b[0;34m.\u001b[0m\u001b[0many\u001b[0m\u001b[0;34m(\u001b[0m\u001b[0;34m)\u001b[0m\u001b[0;34m:\u001b[0m\u001b[0;34m\u001b[0m\u001b[0m\n\u001b[0;32m-> 1750\u001b[0;31m         \u001b[0;32mraise\u001b[0m \u001b[0mIndexError\u001b[0m\u001b[0;34m(\u001b[0m\u001b[0;34m\"indices are out-of-bounds\"\u001b[0m\u001b[0;34m)\u001b[0m\u001b[0;34m\u001b[0m\u001b[0m\n\u001b[0m\u001b[1;32m   1751\u001b[0m     \u001b[0;32mreturn\u001b[0m \u001b[0mindices\u001b[0m\u001b[0;34m\u001b[0m\u001b[0m\n\u001b[1;32m   1752\u001b[0m \u001b[0;34m\u001b[0m\u001b[0m\n",
      "\u001b[0;31mIndexError\u001b[0m: indices are out-of-bounds"
     ]
    }
   ],
   "source": [
    "print users[[1,2,3,4,5]]"
   ]
  },
  {
   "cell_type": "markdown",
   "metadata": {},
   "source": [
    "### Merging all these 3 datasets into one movielens dataset"
   ]
  },
  {
   "cell_type": "code",
   "execution_count": 20,
   "metadata": {
    "collapsed": false
   },
   "outputs": [
    {
     "data": {
      "text/html": [
       "<div>\n",
       "<table border=\"1\" class=\"dataframe\">\n",
       "  <thead>\n",
       "    <tr style=\"text-align: right;\">\n",
       "      <th></th>\n",
       "      <th>movie_id</th>\n",
       "      <th>title</th>\n",
       "      <th>release_date</th>\n",
       "      <th>video_release_date</th>\n",
       "      <th>imdb_url</th>\n",
       "      <th>Unknown</th>\n",
       "      <th>Action</th>\n",
       "      <th>Adventure</th>\n",
       "      <th>user_id</th>\n",
       "      <th>rating</th>\n",
       "      <th>unix_timestamp</th>\n",
       "      <th>age</th>\n",
       "      <th>gender</th>\n",
       "      <th>occupation</th>\n",
       "      <th>zip_code</th>\n",
       "    </tr>\n",
       "  </thead>\n",
       "  <tbody>\n",
       "    <tr>\n",
       "      <th>0</th>\n",
       "      <td>1</td>\n",
       "      <td>Toy Story (1995)</td>\n",
       "      <td>01-Jan-1995</td>\n",
       "      <td>NaN</td>\n",
       "      <td>http://us.imdb.com/M/title-exact?Toy%20Story%2...</td>\n",
       "      <td>0</td>\n",
       "      <td>0</td>\n",
       "      <td>0</td>\n",
       "      <td>308</td>\n",
       "      <td>4</td>\n",
       "      <td>887736532</td>\n",
       "      <td>60</td>\n",
       "      <td>M</td>\n",
       "      <td>retired</td>\n",
       "      <td>95076</td>\n",
       "    </tr>\n",
       "    <tr>\n",
       "      <th>681</th>\n",
       "      <td>4</td>\n",
       "      <td>Get Shorty (1995)</td>\n",
       "      <td>01-Jan-1995</td>\n",
       "      <td>NaN</td>\n",
       "      <td>http://us.imdb.com/M/title-exact?Get%20Shorty%...</td>\n",
       "      <td>0</td>\n",
       "      <td>1</td>\n",
       "      <td>0</td>\n",
       "      <td>308</td>\n",
       "      <td>5</td>\n",
       "      <td>887737890</td>\n",
       "      <td>60</td>\n",
       "      <td>M</td>\n",
       "      <td>retired</td>\n",
       "      <td>95076</td>\n",
       "    </tr>\n",
       "    <tr>\n",
       "      <th>889</th>\n",
       "      <td>5</td>\n",
       "      <td>Copycat (1995)</td>\n",
       "      <td>01-Jan-1995</td>\n",
       "      <td>NaN</td>\n",
       "      <td>http://us.imdb.com/M/title-exact?Copycat%20(1995)</td>\n",
       "      <td>0</td>\n",
       "      <td>0</td>\n",
       "      <td>0</td>\n",
       "      <td>308</td>\n",
       "      <td>4</td>\n",
       "      <td>887739608</td>\n",
       "      <td>60</td>\n",
       "      <td>M</td>\n",
       "      <td>retired</td>\n",
       "      <td>95076</td>\n",
       "    </tr>\n",
       "  </tbody>\n",
       "</table>\n",
       "</div>"
      ],
      "text/plain": [
       "     movie_id              title release_date  video_release_date  \\\n",
       "0           1   Toy Story (1995)  01-Jan-1995                 NaN   \n",
       "681         4  Get Shorty (1995)  01-Jan-1995                 NaN   \n",
       "889         5     Copycat (1995)  01-Jan-1995                 NaN   \n",
       "\n",
       "                                              imdb_url  Unknown  Action  \\\n",
       "0    http://us.imdb.com/M/title-exact?Toy%20Story%2...        0       0   \n",
       "681  http://us.imdb.com/M/title-exact?Get%20Shorty%...        0       1   \n",
       "889  http://us.imdb.com/M/title-exact?Copycat%20(1995)        0       0   \n",
       "\n",
       "     Adventure  user_id  rating  unix_timestamp  age gender occupation  \\\n",
       "0            0      308       4       887736532   60      M    retired   \n",
       "681          0      308       5       887737890   60      M    retired   \n",
       "889          0      308       4       887739608   60      M    retired   \n",
       "\n",
       "    zip_code  \n",
       "0      95076  \n",
       "681    95076  \n",
       "889    95076  "
      ]
     },
     "execution_count": 20,
     "metadata": {},
     "output_type": "execute_result"
    }
   ],
   "source": [
    "movielens = pd.merge(movies, ratings)\n",
    "# turns out that i had converted the user_id column of the users table into the index\n",
    "movielens = pd.merge(movielens, users, left_on='user_id', right_index=True)\n",
    "movielens.head(3)"
   ]
  },
  {
   "cell_type": "markdown",
   "metadata": {},
   "source": [
    "### What are the 25 most rated movies?"
   ]
  },
  {
   "cell_type": "code",
   "execution_count": 21,
   "metadata": {
    "collapsed": false
   },
   "outputs": [
    {
     "data": {
      "text/plain": [
       "title\n",
       "Star Wars (1977)                             583\n",
       "Contact (1997)                               509\n",
       "Fargo (1996)                                 508\n",
       "Return of the Jedi (1983)                    507\n",
       "Liar Liar (1997)                             485\n",
       "English Patient, The (1996)                  481\n",
       "Scream (1996)                                478\n",
       "Toy Story (1995)                             452\n",
       "Air Force One (1997)                         431\n",
       "Independence Day (ID4) (1996)                429\n",
       "Raiders of the Lost Ark (1981)               420\n",
       "Godfather, The (1972)                        413\n",
       "Pulp Fiction (1994)                          394\n",
       "Twelve Monkeys (1995)                        392\n",
       "Silence of the Lambs, The (1991)             390\n",
       "Jerry Maguire (1996)                         384\n",
       "Chasing Amy (1997)                           379\n",
       "Rock, The (1996)                             378\n",
       "Empire Strikes Back, The (1980)              367\n",
       "Star Trek: First Contact (1996)              365\n",
       "Back to the Future (1985)                    350\n",
       "Titanic (1997)                               350\n",
       "Mission: Impossible (1996)                   344\n",
       "Fugitive, The (1993)                         336\n",
       "Indiana Jones and the Last Crusade (1989)    331\n",
       "dtype: int64"
      ]
     },
     "execution_count": 21,
     "metadata": {},
     "output_type": "execute_result"
    }
   ],
   "source": [
    "movielens.groupby(by='title').rating.size().sort_values(ascending = False)[:25]"
   ]
  },
  {
   "cell_type": "markdown",
   "metadata": {},
   "source": [
    "Another way to achieve this since the dataset is at a movie-rating level is to use the \"value_counts\" method. "
   ]
  },
  {
   "cell_type": "code",
   "execution_count": 31,
   "metadata": {
    "collapsed": false
   },
   "outputs": [
    {
     "data": {
      "text/plain": [
       "Star Wars (1977)                             583\n",
       "Contact (1997)                               509\n",
       "Fargo (1996)                                 508\n",
       "Return of the Jedi (1983)                    507\n",
       "Liar Liar (1997)                             485\n",
       "English Patient, The (1996)                  481\n",
       "Scream (1996)                                478\n",
       "Toy Story (1995)                             452\n",
       "Air Force One (1997)                         431\n",
       "Independence Day (ID4) (1996)                429\n",
       "Raiders of the Lost Ark (1981)               420\n",
       "Godfather, The (1972)                        413\n",
       "Pulp Fiction (1994)                          394\n",
       "Twelve Monkeys (1995)                        392\n",
       "Silence of the Lambs, The (1991)             390\n",
       "Jerry Maguire (1996)                         384\n",
       "Chasing Amy (1997)                           379\n",
       "Rock, The (1996)                             378\n",
       "Empire Strikes Back, The (1980)              367\n",
       "Star Trek: First Contact (1996)              365\n",
       "Titanic (1997)                               350\n",
       "Back to the Future (1985)                    350\n",
       "Mission: Impossible (1996)                   344\n",
       "Fugitive, The (1993)                         336\n",
       "Indiana Jones and the Last Crusade (1989)    331\n",
       "Name: title, dtype: int64"
      ]
     },
     "execution_count": 31,
     "metadata": {},
     "output_type": "execute_result"
    }
   ],
   "source": [
    "movielens.title.value_counts()[:25]"
   ]
  },
  {
   "cell_type": "markdown",
   "metadata": {},
   "source": [
    "### Which movies are most highly rated?"
   ]
  },
  {
   "cell_type": "code",
   "execution_count": 32,
   "metadata": {
    "collapsed": false
   },
   "outputs": [
    {
     "data": {
      "text/plain": [
       "title\n",
       "Marlene Dietrich: Shadow and Light (1996)                 5.000000\n",
       "Prefontaine (1997)                                        5.000000\n",
       "Santa with Muscles (1996)                                 5.000000\n",
       "Star Kid (1997)                                           5.000000\n",
       "Someone Else's America (1995)                             5.000000\n",
       "Entertaining Angels: The Dorothy Day Story (1996)         5.000000\n",
       "Saint of Fort Washington, The (1993)                      5.000000\n",
       "Great Day in Harlem, A (1994)                             5.000000\n",
       "They Made Me a Criminal (1939)                            5.000000\n",
       "Aiqing wansui (1994)                                      5.000000\n",
       "Pather Panchali (1955)                                    4.625000\n",
       "Anna (1996)                                               4.500000\n",
       "Everest (1998)                                            4.500000\n",
       "Maya Lin: A Strong Clear Vision (1994)                    4.500000\n",
       "Some Mother's Son (1996)                                  4.500000\n",
       "Close Shave, A (1995)                                     4.491071\n",
       "Schindler's List (1993)                                   4.466443\n",
       "Wrong Trousers, The (1993)                                4.466102\n",
       "Casablanca (1942)                                         4.456790\n",
       "Wallace & Gromit: The Best of Aardman Animation (1996)    4.447761\n",
       "Shawshank Redemption, The (1994)                          4.445230\n",
       "Rear Window (1954)                                        4.387560\n",
       "Usual Suspects, The (1995)                                4.385768\n",
       "Star Wars (1977)                                          4.358491\n",
       "12 Angry Men (1957)                                       4.344000\n",
       "Name: rating, dtype: float64"
      ]
     },
     "execution_count": 32,
     "metadata": {},
     "output_type": "execute_result"
    }
   ],
   "source": [
    "movielens.groupby(by = 'title').rating.mean().sort_values(ascending = False)[:25]"
   ]
  },
  {
   "cell_type": "markdown",
   "metadata": {},
   "source": [
    "There are a lot of movies with perfect 5 rating or a suspicious 4.5 ..<br/>\n",
    "Overall, these ratings make me suspicious of simply using the mean rating without having a context of the sample size of these ratings. For this, let's use the agg function"
   ]
  },
  {
   "cell_type": "code",
   "execution_count": 33,
   "metadata": {
    "collapsed": false
   },
   "outputs": [
    {
     "data": {
      "text/html": [
       "<div>\n",
       "<table border=\"1\" class=\"dataframe\">\n",
       "  <thead>\n",
       "    <tr>\n",
       "      <th></th>\n",
       "      <th colspan=\"2\" halign=\"left\">rating</th>\n",
       "    </tr>\n",
       "    <tr>\n",
       "      <th></th>\n",
       "      <th>size</th>\n",
       "      <th>mean</th>\n",
       "    </tr>\n",
       "    <tr>\n",
       "      <th>title</th>\n",
       "      <th></th>\n",
       "      <th></th>\n",
       "    </tr>\n",
       "  </thead>\n",
       "  <tbody>\n",
       "    <tr>\n",
       "      <th>'Til There Was You (1997)</th>\n",
       "      <td>9</td>\n",
       "      <td>2.333333</td>\n",
       "    </tr>\n",
       "    <tr>\n",
       "      <th>1-900 (1994)</th>\n",
       "      <td>5</td>\n",
       "      <td>2.600000</td>\n",
       "    </tr>\n",
       "    <tr>\n",
       "      <th>101 Dalmatians (1996)</th>\n",
       "      <td>109</td>\n",
       "      <td>2.908257</td>\n",
       "    </tr>\n",
       "    <tr>\n",
       "      <th>12 Angry Men (1957)</th>\n",
       "      <td>125</td>\n",
       "      <td>4.344000</td>\n",
       "    </tr>\n",
       "    <tr>\n",
       "      <th>187 (1997)</th>\n",
       "      <td>41</td>\n",
       "      <td>3.024390</td>\n",
       "    </tr>\n",
       "  </tbody>\n",
       "</table>\n",
       "</div>"
      ],
      "text/plain": [
       "                          rating          \n",
       "                            size      mean\n",
       "title                                     \n",
       "'Til There Was You (1997)      9  2.333333\n",
       "1-900 (1994)                   5  2.600000\n",
       "101 Dalmatians (1996)        109  2.908257\n",
       "12 Angry Men (1957)          125  4.344000\n",
       "187 (1997)                    41  3.024390"
      ]
     },
     "execution_count": 33,
     "metadata": {},
     "output_type": "execute_result"
    }
   ],
   "source": [
    "highly_rated = movielens.groupby(by = 'title').agg({'rating':[np.size,np.mean]})\n",
    "highly_rated.head()"
   ]
  },
  {
   "cell_type": "markdown",
   "metadata": {},
   "source": [
    "AGG method can be used as a dictionary to pass the columns that we want aggregation on as the key and a list of functions that we want applied."
   ]
  },
  {
   "cell_type": "code",
   "execution_count": 34,
   "metadata": {
    "collapsed": false
   },
   "outputs": [
    {
     "data": {
      "text/html": [
       "<div>\n",
       "<table border=\"1\" class=\"dataframe\">\n",
       "  <thead>\n",
       "    <tr>\n",
       "      <th></th>\n",
       "      <th colspan=\"2\" halign=\"left\">rating</th>\n",
       "    </tr>\n",
       "    <tr>\n",
       "      <th></th>\n",
       "      <th>size</th>\n",
       "      <th>mean</th>\n",
       "    </tr>\n",
       "    <tr>\n",
       "      <th>title</th>\n",
       "      <th></th>\n",
       "      <th></th>\n",
       "    </tr>\n",
       "  </thead>\n",
       "  <tbody>\n",
       "    <tr>\n",
       "      <th>They Made Me a Criminal (1939)</th>\n",
       "      <td>1</td>\n",
       "      <td>5.000000</td>\n",
       "    </tr>\n",
       "    <tr>\n",
       "      <th>Marlene Dietrich: Shadow and Light (1996)</th>\n",
       "      <td>1</td>\n",
       "      <td>5.000000</td>\n",
       "    </tr>\n",
       "    <tr>\n",
       "      <th>Saint of Fort Washington, The (1993)</th>\n",
       "      <td>2</td>\n",
       "      <td>5.000000</td>\n",
       "    </tr>\n",
       "    <tr>\n",
       "      <th>Someone Else's America (1995)</th>\n",
       "      <td>1</td>\n",
       "      <td>5.000000</td>\n",
       "    </tr>\n",
       "    <tr>\n",
       "      <th>Star Kid (1997)</th>\n",
       "      <td>3</td>\n",
       "      <td>5.000000</td>\n",
       "    </tr>\n",
       "    <tr>\n",
       "      <th>Great Day in Harlem, A (1994)</th>\n",
       "      <td>1</td>\n",
       "      <td>5.000000</td>\n",
       "    </tr>\n",
       "    <tr>\n",
       "      <th>Aiqing wansui (1994)</th>\n",
       "      <td>1</td>\n",
       "      <td>5.000000</td>\n",
       "    </tr>\n",
       "    <tr>\n",
       "      <th>Santa with Muscles (1996)</th>\n",
       "      <td>2</td>\n",
       "      <td>5.000000</td>\n",
       "    </tr>\n",
       "    <tr>\n",
       "      <th>Prefontaine (1997)</th>\n",
       "      <td>3</td>\n",
       "      <td>5.000000</td>\n",
       "    </tr>\n",
       "    <tr>\n",
       "      <th>Entertaining Angels: The Dorothy Day Story (1996)</th>\n",
       "      <td>1</td>\n",
       "      <td>5.000000</td>\n",
       "    </tr>\n",
       "    <tr>\n",
       "      <th>Pather Panchali (1955)</th>\n",
       "      <td>8</td>\n",
       "      <td>4.625000</td>\n",
       "    </tr>\n",
       "    <tr>\n",
       "      <th>Some Mother's Son (1996)</th>\n",
       "      <td>2</td>\n",
       "      <td>4.500000</td>\n",
       "    </tr>\n",
       "    <tr>\n",
       "      <th>Maya Lin: A Strong Clear Vision (1994)</th>\n",
       "      <td>4</td>\n",
       "      <td>4.500000</td>\n",
       "    </tr>\n",
       "    <tr>\n",
       "      <th>Anna (1996)</th>\n",
       "      <td>2</td>\n",
       "      <td>4.500000</td>\n",
       "    </tr>\n",
       "    <tr>\n",
       "      <th>Everest (1998)</th>\n",
       "      <td>2</td>\n",
       "      <td>4.500000</td>\n",
       "    </tr>\n",
       "    <tr>\n",
       "      <th>Close Shave, A (1995)</th>\n",
       "      <td>112</td>\n",
       "      <td>4.491071</td>\n",
       "    </tr>\n",
       "    <tr>\n",
       "      <th>Schindler's List (1993)</th>\n",
       "      <td>298</td>\n",
       "      <td>4.466443</td>\n",
       "    </tr>\n",
       "    <tr>\n",
       "      <th>Wrong Trousers, The (1993)</th>\n",
       "      <td>118</td>\n",
       "      <td>4.466102</td>\n",
       "    </tr>\n",
       "    <tr>\n",
       "      <th>Casablanca (1942)</th>\n",
       "      <td>243</td>\n",
       "      <td>4.456790</td>\n",
       "    </tr>\n",
       "    <tr>\n",
       "      <th>Wallace &amp; Gromit: The Best of Aardman Animation (1996)</th>\n",
       "      <td>67</td>\n",
       "      <td>4.447761</td>\n",
       "    </tr>\n",
       "    <tr>\n",
       "      <th>Shawshank Redemption, The (1994)</th>\n",
       "      <td>283</td>\n",
       "      <td>4.445230</td>\n",
       "    </tr>\n",
       "    <tr>\n",
       "      <th>Rear Window (1954)</th>\n",
       "      <td>209</td>\n",
       "      <td>4.387560</td>\n",
       "    </tr>\n",
       "    <tr>\n",
       "      <th>Usual Suspects, The (1995)</th>\n",
       "      <td>267</td>\n",
       "      <td>4.385768</td>\n",
       "    </tr>\n",
       "    <tr>\n",
       "      <th>Star Wars (1977)</th>\n",
       "      <td>583</td>\n",
       "      <td>4.358491</td>\n",
       "    </tr>\n",
       "    <tr>\n",
       "      <th>12 Angry Men (1957)</th>\n",
       "      <td>125</td>\n",
       "      <td>4.344000</td>\n",
       "    </tr>\n",
       "  </tbody>\n",
       "</table>\n",
       "</div>"
      ],
      "text/plain": [
       "                                                   rating          \n",
       "                                                     size      mean\n",
       "title                                                              \n",
       "They Made Me a Criminal (1939)                          1  5.000000\n",
       "Marlene Dietrich: Shadow and Light (1996)               1  5.000000\n",
       "Saint of Fort Washington, The (1993)                    2  5.000000\n",
       "Someone Else's America (1995)                           1  5.000000\n",
       "Star Kid (1997)                                         3  5.000000\n",
       "Great Day in Harlem, A (1994)                           1  5.000000\n",
       "Aiqing wansui (1994)                                    1  5.000000\n",
       "Santa with Muscles (1996)                               2  5.000000\n",
       "Prefontaine (1997)                                      3  5.000000\n",
       "Entertaining Angels: The Dorothy Day Story (1996)       1  5.000000\n",
       "Pather Panchali (1955)                                  8  4.625000\n",
       "Some Mother's Son (1996)                                2  4.500000\n",
       "Maya Lin: A Strong Clear Vision (1994)                  4  4.500000\n",
       "Anna (1996)                                             2  4.500000\n",
       "Everest (1998)                                          2  4.500000\n",
       "Close Shave, A (1995)                                 112  4.491071\n",
       "Schindler's List (1993)                               298  4.466443\n",
       "Wrong Trousers, The (1993)                            118  4.466102\n",
       "Casablanca (1942)                                     243  4.456790\n",
       "Wallace & Gromit: The Best of Aardman Animation...     67  4.447761\n",
       "Shawshank Redemption, The (1994)                      283  4.445230\n",
       "Rear Window (1954)                                    209  4.387560\n",
       "Usual Suspects, The (1995)                            267  4.385768\n",
       "Star Wars (1977)                                      583  4.358491\n",
       "12 Angry Men (1957)                                   125  4.344000"
      ]
     },
     "execution_count": 34,
     "metadata": {},
     "output_type": "execute_result"
    }
   ],
   "source": [
    "highly_rated.sort_values(by = [('rating','mean')], ascending = False)[:25]"
   ]
  },
  {
   "cell_type": "markdown",
   "metadata": {},
   "source": [
    "Note the sort index ('rating','mean'). This is because the dataframe is now multi-index. So we need to pass a tuple as the sort index."
   ]
  },
  {
   "cell_type": "markdown",
   "metadata": {},
   "source": [
    "As expected, the movies with rating of 5 have very low sample sizes. Let's specify sample sizes of at least 100."
   ]
  },
  {
   "cell_type": "code",
   "execution_count": 35,
   "metadata": {
    "collapsed": false
   },
   "outputs": [
    {
     "data": {
      "text/html": [
       "<div>\n",
       "<table border=\"1\" class=\"dataframe\">\n",
       "  <thead>\n",
       "    <tr>\n",
       "      <th></th>\n",
       "      <th colspan=\"2\" halign=\"left\">rating</th>\n",
       "    </tr>\n",
       "    <tr>\n",
       "      <th></th>\n",
       "      <th>size</th>\n",
       "      <th>mean</th>\n",
       "    </tr>\n",
       "    <tr>\n",
       "      <th>title</th>\n",
       "      <th></th>\n",
       "      <th></th>\n",
       "    </tr>\n",
       "  </thead>\n",
       "  <tbody>\n",
       "    <tr>\n",
       "      <th>Close Shave, A (1995)</th>\n",
       "      <td>112</td>\n",
       "      <td>4.491071</td>\n",
       "    </tr>\n",
       "    <tr>\n",
       "      <th>Schindler's List (1993)</th>\n",
       "      <td>298</td>\n",
       "      <td>4.466443</td>\n",
       "    </tr>\n",
       "    <tr>\n",
       "      <th>Wrong Trousers, The (1993)</th>\n",
       "      <td>118</td>\n",
       "      <td>4.466102</td>\n",
       "    </tr>\n",
       "    <tr>\n",
       "      <th>Casablanca (1942)</th>\n",
       "      <td>243</td>\n",
       "      <td>4.456790</td>\n",
       "    </tr>\n",
       "    <tr>\n",
       "      <th>Shawshank Redemption, The (1994)</th>\n",
       "      <td>283</td>\n",
       "      <td>4.445230</td>\n",
       "    </tr>\n",
       "    <tr>\n",
       "      <th>Rear Window (1954)</th>\n",
       "      <td>209</td>\n",
       "      <td>4.387560</td>\n",
       "    </tr>\n",
       "    <tr>\n",
       "      <th>Usual Suspects, The (1995)</th>\n",
       "      <td>267</td>\n",
       "      <td>4.385768</td>\n",
       "    </tr>\n",
       "    <tr>\n",
       "      <th>Star Wars (1977)</th>\n",
       "      <td>583</td>\n",
       "      <td>4.358491</td>\n",
       "    </tr>\n",
       "    <tr>\n",
       "      <th>12 Angry Men (1957)</th>\n",
       "      <td>125</td>\n",
       "      <td>4.344000</td>\n",
       "    </tr>\n",
       "    <tr>\n",
       "      <th>Citizen Kane (1941)</th>\n",
       "      <td>198</td>\n",
       "      <td>4.292929</td>\n",
       "    </tr>\n",
       "    <tr>\n",
       "      <th>To Kill a Mockingbird (1962)</th>\n",
       "      <td>219</td>\n",
       "      <td>4.292237</td>\n",
       "    </tr>\n",
       "    <tr>\n",
       "      <th>One Flew Over the Cuckoo's Nest (1975)</th>\n",
       "      <td>264</td>\n",
       "      <td>4.291667</td>\n",
       "    </tr>\n",
       "    <tr>\n",
       "      <th>Silence of the Lambs, The (1991)</th>\n",
       "      <td>390</td>\n",
       "      <td>4.289744</td>\n",
       "    </tr>\n",
       "    <tr>\n",
       "      <th>North by Northwest (1959)</th>\n",
       "      <td>179</td>\n",
       "      <td>4.284916</td>\n",
       "    </tr>\n",
       "    <tr>\n",
       "      <th>Godfather, The (1972)</th>\n",
       "      <td>413</td>\n",
       "      <td>4.283293</td>\n",
       "    </tr>\n",
       "    <tr>\n",
       "      <th>Secrets &amp; Lies (1996)</th>\n",
       "      <td>162</td>\n",
       "      <td>4.265432</td>\n",
       "    </tr>\n",
       "    <tr>\n",
       "      <th>Good Will Hunting (1997)</th>\n",
       "      <td>198</td>\n",
       "      <td>4.262626</td>\n",
       "    </tr>\n",
       "    <tr>\n",
       "      <th>Manchurian Candidate, The (1962)</th>\n",
       "      <td>131</td>\n",
       "      <td>4.259542</td>\n",
       "    </tr>\n",
       "    <tr>\n",
       "      <th>Dr. Strangelove or: How I Learned to Stop Worrying and Love the Bomb (1963)</th>\n",
       "      <td>194</td>\n",
       "      <td>4.252577</td>\n",
       "    </tr>\n",
       "    <tr>\n",
       "      <th>Raiders of the Lost Ark (1981)</th>\n",
       "      <td>420</td>\n",
       "      <td>4.252381</td>\n",
       "    </tr>\n",
       "    <tr>\n",
       "      <th>Vertigo (1958)</th>\n",
       "      <td>179</td>\n",
       "      <td>4.251397</td>\n",
       "    </tr>\n",
       "    <tr>\n",
       "      <th>Titanic (1997)</th>\n",
       "      <td>350</td>\n",
       "      <td>4.245714</td>\n",
       "    </tr>\n",
       "    <tr>\n",
       "      <th>Lawrence of Arabia (1962)</th>\n",
       "      <td>173</td>\n",
       "      <td>4.231214</td>\n",
       "    </tr>\n",
       "    <tr>\n",
       "      <th>Maltese Falcon, The (1941)</th>\n",
       "      <td>138</td>\n",
       "      <td>4.210145</td>\n",
       "    </tr>\n",
       "    <tr>\n",
       "      <th>Empire Strikes Back, The (1980)</th>\n",
       "      <td>367</td>\n",
       "      <td>4.204360</td>\n",
       "    </tr>\n",
       "  </tbody>\n",
       "</table>\n",
       "</div>"
      ],
      "text/plain": [
       "                                                   rating          \n",
       "                                                     size      mean\n",
       "title                                                              \n",
       "Close Shave, A (1995)                                 112  4.491071\n",
       "Schindler's List (1993)                               298  4.466443\n",
       "Wrong Trousers, The (1993)                            118  4.466102\n",
       "Casablanca (1942)                                     243  4.456790\n",
       "Shawshank Redemption, The (1994)                      283  4.445230\n",
       "Rear Window (1954)                                    209  4.387560\n",
       "Usual Suspects, The (1995)                            267  4.385768\n",
       "Star Wars (1977)                                      583  4.358491\n",
       "12 Angry Men (1957)                                   125  4.344000\n",
       "Citizen Kane (1941)                                   198  4.292929\n",
       "To Kill a Mockingbird (1962)                          219  4.292237\n",
       "One Flew Over the Cuckoo's Nest (1975)                264  4.291667\n",
       "Silence of the Lambs, The (1991)                      390  4.289744\n",
       "North by Northwest (1959)                             179  4.284916\n",
       "Godfather, The (1972)                                 413  4.283293\n",
       "Secrets & Lies (1996)                                 162  4.265432\n",
       "Good Will Hunting (1997)                              198  4.262626\n",
       "Manchurian Candidate, The (1962)                      131  4.259542\n",
       "Dr. Strangelove or: How I Learned to Stop Worry...    194  4.252577\n",
       "Raiders of the Lost Ark (1981)                        420  4.252381\n",
       "Vertigo (1958)                                        179  4.251397\n",
       "Titanic (1997)                                        350  4.245714\n",
       "Lawrence of Arabia (1962)                             173  4.231214\n",
       "Maltese Falcon, The (1941)                            138  4.210145\n",
       "Empire Strikes Back, The (1980)                       367  4.204360"
      ]
     },
     "execution_count": 35,
     "metadata": {},
     "output_type": "execute_result"
    }
   ],
   "source": [
    "highly_rated[highly_rated[('rating','size')] >= 100].sort_values(by = [('rating','mean')], ascending = False)[:25]\n",
    "# this can also be specified as:\n",
    "# highly_rated[highly_rated['rating']['size'] >= 100].sort_values(by = [('rating','mean')], ascending = False)[:25]"
   ]
  },
  {
   "cell_type": "markdown",
   "metadata": {},
   "source": [
    "The SQL equivalent for this would be\n",
    "\n",
    "SELECT title, COUNT(1) size, AVG(rating) as mean<br/>\n",
    "FROM highly_rated<br/>\n",
    "GROUP BY title<br/>\n",
    "HAVING COUNT(1) >= 100<br/>\n",
    "ORDER BY 3 DESC<br/>\n",
    "LIMIT 25"
   ]
  },
  {
   "cell_type": "markdown",
   "metadata": {},
   "source": [
    "#### Limiting population to the 50 most rated movies"
   ]
  },
  {
   "cell_type": "code",
   "execution_count": 73,
   "metadata": {
    "collapsed": false
   },
   "outputs": [
    {
     "data": {
      "text/plain": [
       "movie_id\n",
       "50     583\n",
       "258    509\n",
       "100    508\n",
       "dtype: int64"
      ]
     },
     "execution_count": 73,
     "metadata": {},
     "output_type": "execute_result"
    }
   ],
   "source": [
    "mostrated = movielens.groupby(by = 'movie_id').rating.size().sort_values(ascending = False)[:50]\n",
    "mostrated.head(3)"
   ]
  },
  {
   "cell_type": "markdown",
   "metadata": {},
   "source": [
    "We can use this series in an EXISTS, IN or JOIN scenario whenever we want to filter our results. Just an example using EXISTS -\n",
    "\n",
    "Select * <br/>\n",
    "from movielens<br/>\n",
    "where exists (Select 1 from mostrated where movielens.movie_id = mostrated.movie_id);"
   ]
  },
  {
   "cell_type": "markdown",
   "metadata": {},
   "source": [
    "### Which movies are most wildly different amongst different ages?"
   ]
  },
  {
   "cell_type": "markdown",
   "metadata": {},
   "source": [
    "Pandas natively integrates into matpplotlib. This is why we can simply call the hist function on the dataframe.\n",
    "\n",
    "We defined matplotlib.pyplot while instantiating the libraries in order to customise the graphs a bit (ex: axes, titles etc.)"
   ]
  },
  {
   "cell_type": "code",
   "execution_count": 37,
   "metadata": {
    "collapsed": false
   },
   "outputs": [
    {
     "data": {
      "image/png": "[encoded data removed]",
      "text/plain": [
       "<matplotlib.figure.Figure at 0x10b0cc510>"
      ]
     },
     "metadata": {},
     "output_type": "display_data"
    }
   ],
   "source": [
    "users.age.hist(bins = 30)\n",
    "plt.title('Distribution of users ages')\n",
    "plt.ylabel('count of users')\n",
    "plt.xlabel('age');"
   ]
  },
  {
   "cell_type": "markdown",
   "metadata": {},
   "source": [
    "In most real cases, the bins need to make more sense. for example, consumers between ages 0 to 14 can be clubbed under the 'children' category, while we may be more interested in the difference in buying patterns between a 22 year old and a 28 year old, so we create 2 separate categories for 20-25 and 25-30. Typically, custom bins in SQL can be created using a case statement - \n",
    "\n",
    "Select user_id, age,<br/>\n",
    "case when age <= 14 then '0 - 14'<br/>\n",
    "when age >= 15 and age < 20 then '15 - 19'<br/>\n",
    "when age >= 20 and age < 25 then '20 - 24'<br/>\n",
    "when age >= 25 and age < 30 then '20 - 29'<br/>\n",
    "else 'Great than 30' end as age_group<br/>\n",
    "from users"
   ]
  },
  {
   "cell_type": "markdown",
   "metadata": {},
   "source": [
    "Pandas has an inbuilt function to slice and dice the data. It's called 'cut'. And it does just that."
   ]
  },
  {
   "cell_type": "code",
   "execution_count": 38,
   "metadata": {
    "collapsed": false
   },
   "outputs": [
    {
     "data": {
      "text/html": [
       "<div>\n",
       "<table border=\"1\" class=\"dataframe\">\n",
       "  <thead>\n",
       "    <tr style=\"text-align: right;\">\n",
       "      <th></th>\n",
       "      <th>age</th>\n",
       "      <th>age_group</th>\n",
       "    </tr>\n",
       "  </thead>\n",
       "  <tbody>\n",
       "    <tr>\n",
       "      <th>0</th>\n",
       "      <td>60</td>\n",
       "      <td>Greater than 30</td>\n",
       "    </tr>\n",
       "    <tr>\n",
       "      <th>1</th>\n",
       "      <td>21</td>\n",
       "      <td>20-24</td>\n",
       "    </tr>\n",
       "    <tr>\n",
       "      <th>2</th>\n",
       "      <td>33</td>\n",
       "      <td>Greater than 30</td>\n",
       "    </tr>\n",
       "    <tr>\n",
       "      <th>3</th>\n",
       "      <td>30</td>\n",
       "      <td>Greater than 30</td>\n",
       "    </tr>\n",
       "    <tr>\n",
       "      <th>4</th>\n",
       "      <td>23</td>\n",
       "      <td>20-24</td>\n",
       "    </tr>\n",
       "    <tr>\n",
       "      <th>6</th>\n",
       "      <td>29</td>\n",
       "      <td>25-29</td>\n",
       "    </tr>\n",
       "    <tr>\n",
       "      <th>7</th>\n",
       "      <td>26</td>\n",
       "      <td>25-29</td>\n",
       "    </tr>\n",
       "    <tr>\n",
       "      <th>8</th>\n",
       "      <td>31</td>\n",
       "      <td>Greater than 30</td>\n",
       "    </tr>\n",
       "    <tr>\n",
       "      <th>9</th>\n",
       "      <td>24</td>\n",
       "      <td>20-24</td>\n",
       "    </tr>\n",
       "    <tr>\n",
       "      <th>10</th>\n",
       "      <td>32</td>\n",
       "      <td>Greater than 30</td>\n",
       "    </tr>\n",
       "  </tbody>\n",
       "</table>\n",
       "</div>"
      ],
      "text/plain": [
       "    age        age_group\n",
       "0    60  Greater than 30\n",
       "1    21            20-24\n",
       "2    33  Greater than 30\n",
       "3    30  Greater than 30\n",
       "4    23            20-24\n",
       "6    29            25-29\n",
       "7    26            25-29\n",
       "8    31  Greater than 30\n",
       "9    24            20-24\n",
       "10   32  Greater than 30"
      ]
     },
     "execution_count": 38,
     "metadata": {},
     "output_type": "execute_result"
    }
   ],
   "source": [
    "labels = ['0-14','14-19','20-24','25-29','Greater than 30']\n",
    "movielens['age_group'] = pd.cut(movielens.age,[0,15,20,25,30,80],right = False,labels = labels)\n",
    "movielens[['age','age_group']].drop_duplicates().head(10)"
   ]
  },
  {
   "cell_type": "markdown",
   "metadata": {},
   "source": [
    "3 points here\n",
    "- right = False condition tells the function not consider the rightmost bin value i.e. in the above example, it will consider 0 - 14.\n",
    "- the series specified as [0,15,20,25,30,80] defines the bins. In conjunction with right=False, this series tells the function to cut the age variable as 0-14, 15-19, 20-24 and so on.\n",
    "- if the bin parameter is a scalar, then it cuts the variable into equal sized partitions.\n",
    "\n",
    "Now, let's get back to the dataset and cut it into 8 parts of size 10 each."
   ]
  },
  {
   "cell_type": "code",
   "execution_count": 39,
   "metadata": {
    "collapsed": false
   },
   "outputs": [
    {
     "data": {
      "text/html": [
       "<div>\n",
       "<table border=\"1\" class=\"dataframe\">\n",
       "  <thead>\n",
       "    <tr style=\"text-align: right;\">\n",
       "      <th></th>\n",
       "      <th>age</th>\n",
       "      <th>age_group</th>\n",
       "    </tr>\n",
       "  </thead>\n",
       "  <tbody>\n",
       "    <tr>\n",
       "      <th>0</th>\n",
       "      <td>60</td>\n",
       "      <td>60-69</td>\n",
       "    </tr>\n",
       "    <tr>\n",
       "      <th>1</th>\n",
       "      <td>21</td>\n",
       "      <td>20-29</td>\n",
       "    </tr>\n",
       "    <tr>\n",
       "      <th>2</th>\n",
       "      <td>33</td>\n",
       "      <td>30-39</td>\n",
       "    </tr>\n",
       "    <tr>\n",
       "      <th>3</th>\n",
       "      <td>30</td>\n",
       "      <td>30-39</td>\n",
       "    </tr>\n",
       "    <tr>\n",
       "      <th>4</th>\n",
       "      <td>23</td>\n",
       "      <td>20-29</td>\n",
       "    </tr>\n",
       "    <tr>\n",
       "      <th>6</th>\n",
       "      <td>29</td>\n",
       "      <td>20-29</td>\n",
       "    </tr>\n",
       "    <tr>\n",
       "      <th>7</th>\n",
       "      <td>26</td>\n",
       "      <td>20-29</td>\n",
       "    </tr>\n",
       "    <tr>\n",
       "      <th>8</th>\n",
       "      <td>31</td>\n",
       "      <td>30-39</td>\n",
       "    </tr>\n",
       "    <tr>\n",
       "      <th>9</th>\n",
       "      <td>24</td>\n",
       "      <td>20-29</td>\n",
       "    </tr>\n",
       "    <tr>\n",
       "      <th>10</th>\n",
       "      <td>32</td>\n",
       "      <td>30-39</td>\n",
       "    </tr>\n",
       "  </tbody>\n",
       "</table>\n",
       "</div>"
      ],
      "text/plain": [
       "    age age_group\n",
       "0    60     60-69\n",
       "1    21     20-29\n",
       "2    33     30-39\n",
       "3    30     30-39\n",
       "4    23     20-29\n",
       "6    29     20-29\n",
       "7    26     20-29\n",
       "8    31     30-39\n",
       "9    24     20-29\n",
       "10   32     30-39"
      ]
     },
     "execution_count": 39,
     "metadata": {},
     "output_type": "execute_result"
    }
   ],
   "source": [
    "labels = ['0-9','10-19','20-29','30-39','40-49','50-59','60-69','70-79']\n",
    "movielens['age_group'] = pd.cut(movielens.age,range(0,81,10),right = False,labels = labels)\n",
    "movielens[['age','age_group']].drop_duplicates().head(10)"
   ]
  },
  {
   "cell_type": "markdown",
   "metadata": {},
   "source": [
    "Note the range is 81 because it doesn't include the max range (think why!). So, if we specify np.arange(0,80,10), then the output will be - \n",
    "\n",
    "array([ 0, 10, 20, 30, 40, 50, 60, 70])\n",
    "\n",
    "The histogram above clearly shows users above the age of 70."
   ]
  },
  {
   "cell_type": "markdown",
   "metadata": {},
   "source": [
    "Now, let's compare ratings across different age groups."
   ]
  },
  {
   "cell_type": "code",
   "execution_count": 40,
   "metadata": {
    "collapsed": false
   },
   "outputs": [
    {
     "data": {
      "text/html": [
       "<div>\n",
       "<table border=\"1\" class=\"dataframe\">\n",
       "  <thead>\n",
       "    <tr>\n",
       "      <th></th>\n",
       "      <th colspan=\"2\" halign=\"left\">rating</th>\n",
       "    </tr>\n",
       "    <tr>\n",
       "      <th></th>\n",
       "      <th>size</th>\n",
       "      <th>mean</th>\n",
       "    </tr>\n",
       "    <tr>\n",
       "      <th>age_group</th>\n",
       "      <th></th>\n",
       "      <th></th>\n",
       "    </tr>\n",
       "  </thead>\n",
       "  <tbody>\n",
       "    <tr>\n",
       "      <th>0-9</th>\n",
       "      <td>43</td>\n",
       "      <td>3.767442</td>\n",
       "    </tr>\n",
       "    <tr>\n",
       "      <th>10-19</th>\n",
       "      <td>8181</td>\n",
       "      <td>3.486126</td>\n",
       "    </tr>\n",
       "    <tr>\n",
       "      <th>20-29</th>\n",
       "      <td>39535</td>\n",
       "      <td>3.467333</td>\n",
       "    </tr>\n",
       "    <tr>\n",
       "      <th>30-39</th>\n",
       "      <td>25696</td>\n",
       "      <td>3.554444</td>\n",
       "    </tr>\n",
       "    <tr>\n",
       "      <th>40-49</th>\n",
       "      <td>15021</td>\n",
       "      <td>3.591772</td>\n",
       "    </tr>\n",
       "    <tr>\n",
       "      <th>50-59</th>\n",
       "      <td>8704</td>\n",
       "      <td>3.635800</td>\n",
       "    </tr>\n",
       "    <tr>\n",
       "      <th>60-69</th>\n",
       "      <td>2623</td>\n",
       "      <td>3.648875</td>\n",
       "    </tr>\n",
       "    <tr>\n",
       "      <th>70-79</th>\n",
       "      <td>197</td>\n",
       "      <td>3.649746</td>\n",
       "    </tr>\n",
       "  </tbody>\n",
       "</table>\n",
       "</div>"
      ],
      "text/plain": [
       "          rating          \n",
       "            size      mean\n",
       "age_group                 \n",
       "0-9           43  3.767442\n",
       "10-19       8181  3.486126\n",
       "20-29      39535  3.467333\n",
       "30-39      25696  3.554444\n",
       "40-49      15021  3.591772\n",
       "50-59       8704  3.635800\n",
       "60-69       2623  3.648875\n",
       "70-79        197  3.649746"
      ]
     },
     "execution_count": 40,
     "metadata": {},
     "output_type": "execute_result"
    }
   ],
   "source": [
    "movielens.groupby(by = 'age_group').agg({'rating':[np.size,np.mean]})"
   ]
  },
  {
   "cell_type": "markdown",
   "metadata": {},
   "source": [
    "#### Let's look at how the 50 most rated movies are viewed across each age group. We can use the mostrated Series we created earlier for filtering."
   ]
  },
  {
   "cell_type": "code",
   "execution_count": 60,
   "metadata": {
    "collapsed": false
   },
   "outputs": [
    {
     "data": {
      "text/html": [
       "<div>\n",
       "<table border=\"1\" class=\"dataframe\">\n",
       "  <thead>\n",
       "    <tr style=\"text-align: right;\">\n",
       "      <th></th>\n",
       "      <th>title</th>\n",
       "      <th>index</th>\n",
       "      <th>release_date</th>\n",
       "      <th>video_release_date</th>\n",
       "      <th>imdb_url</th>\n",
       "      <th>Unknown</th>\n",
       "      <th>Action</th>\n",
       "      <th>Adventure</th>\n",
       "      <th>user_id</th>\n",
       "      <th>rating</th>\n",
       "      <th>unix_timestamp</th>\n",
       "      <th>age</th>\n",
       "      <th>gender</th>\n",
       "      <th>occupation</th>\n",
       "      <th>zip_code</th>\n",
       "      <th>age_group</th>\n",
       "    </tr>\n",
       "    <tr>\n",
       "      <th>movie_id</th>\n",
       "      <th></th>\n",
       "      <th></th>\n",
       "      <th></th>\n",
       "      <th></th>\n",
       "      <th></th>\n",
       "      <th></th>\n",
       "      <th></th>\n",
       "      <th></th>\n",
       "      <th></th>\n",
       "      <th></th>\n",
       "      <th></th>\n",
       "      <th></th>\n",
       "      <th></th>\n",
       "      <th></th>\n",
       "      <th></th>\n",
       "      <th></th>\n",
       "    </tr>\n",
       "  </thead>\n",
       "  <tbody>\n",
       "    <tr>\n",
       "      <th>1</th>\n",
       "      <td>Toy Story (1995)</td>\n",
       "      <td>0</td>\n",
       "      <td>01-Jan-1995</td>\n",
       "      <td>NaN</td>\n",
       "      <td>http://us.imdb.com/M/title-exact?Toy%20Story%2...</td>\n",
       "      <td>0</td>\n",
       "      <td>0</td>\n",
       "      <td>0</td>\n",
       "      <td>308</td>\n",
       "      <td>4</td>\n",
       "      <td>887736532</td>\n",
       "      <td>60</td>\n",
       "      <td>M</td>\n",
       "      <td>retired</td>\n",
       "      <td>95076</td>\n",
       "      <td>60-69</td>\n",
       "    </tr>\n",
       "    <tr>\n",
       "      <th>4</th>\n",
       "      <td>Get Shorty (1995)</td>\n",
       "      <td>1</td>\n",
       "      <td>01-Jan-1995</td>\n",
       "      <td>NaN</td>\n",
       "      <td>http://us.imdb.com/M/title-exact?Get%20Shorty%...</td>\n",
       "      <td>0</td>\n",
       "      <td>1</td>\n",
       "      <td>0</td>\n",
       "      <td>308</td>\n",
       "      <td>5</td>\n",
       "      <td>887737890</td>\n",
       "      <td>60</td>\n",
       "      <td>M</td>\n",
       "      <td>retired</td>\n",
       "      <td>95076</td>\n",
       "      <td>60-69</td>\n",
       "    </tr>\n",
       "    <tr>\n",
       "      <th>5</th>\n",
       "      <td>Copycat (1995)</td>\n",
       "      <td>2</td>\n",
       "      <td>01-Jan-1995</td>\n",
       "      <td>NaN</td>\n",
       "      <td>http://us.imdb.com/M/title-exact?Copycat%20(1995)</td>\n",
       "      <td>0</td>\n",
       "      <td>0</td>\n",
       "      <td>0</td>\n",
       "      <td>308</td>\n",
       "      <td>4</td>\n",
       "      <td>887739608</td>\n",
       "      <td>60</td>\n",
       "      <td>M</td>\n",
       "      <td>retired</td>\n",
       "      <td>95076</td>\n",
       "      <td>60-69</td>\n",
       "    </tr>\n",
       "  </tbody>\n",
       "</table>\n",
       "</div>"
      ],
      "text/plain": [
       "                      title  index release_date  video_release_date  \\\n",
       "movie_id                                                              \n",
       "1          Toy Story (1995)      0  01-Jan-1995                 NaN   \n",
       "4         Get Shorty (1995)      1  01-Jan-1995                 NaN   \n",
       "5            Copycat (1995)      2  01-Jan-1995                 NaN   \n",
       "\n",
       "                                                   imdb_url  Unknown  Action  \\\n",
       "movie_id                                                                       \n",
       "1         http://us.imdb.com/M/title-exact?Toy%20Story%2...        0       0   \n",
       "4         http://us.imdb.com/M/title-exact?Get%20Shorty%...        0       1   \n",
       "5         http://us.imdb.com/M/title-exact?Copycat%20(1995)        0       0   \n",
       "\n",
       "          Adventure  user_id  rating  unix_timestamp  age gender occupation  \\\n",
       "movie_id                                                                      \n",
       "1                 0      308       4       887736532   60      M    retired   \n",
       "4                 0      308       5       887737890   60      M    retired   \n",
       "5                 0      308       4       887739608   60      M    retired   \n",
       "\n",
       "         zip_code age_group  \n",
       "movie_id                     \n",
       "1           95076     60-69  \n",
       "4           95076     60-69  \n",
       "5           95076     60-69  "
      ]
     },
     "execution_count": 60,
     "metadata": {},
     "output_type": "execute_result"
    }
   ],
   "source": [
    "movielens.head(3)"
   ]
  },
  {
   "cell_type": "code",
   "execution_count": 75,
   "metadata": {
    "collapsed": true
   },
   "outputs": [],
   "source": [
    "movielens.set_index('movie_id',inplace = True)"
   ]
  },
  {
   "cell_type": "code",
   "execution_count": 76,
   "metadata": {
    "collapsed": false
   },
   "outputs": [
    {
     "data": {
      "text/plain": [
       "Int64Index([ 50, 258, 100, 181, 294, 286, 288,   1, 300, 121, 174, 127,  56,\n",
       "              7,  98, 237, 117, 172, 222, 313, 204, 405,  79, 210, 151, 173,\n",
       "             69, 168, 748, 269, 257, 195, 423,   9, 318, 276, 302,  22,  96,\n",
       "            328,  25,  15, 118, 183, 216, 176,  64, 234, 202,  28],\n",
       "           dtype='int64', name=u'movie_id')"
      ]
     },
     "execution_count": 76,
     "metadata": {},
     "output_type": "execute_result"
    }
   ],
   "source": [
    "mostrated.index"
   ]
  },
  {
   "cell_type": "code",
   "execution_count": 91,
   "metadata": {
    "collapsed": false
   },
   "outputs": [],
   "source": [
    "by_age = movielens.ix[mostrated.index].groupby(['title','age_group'])"
   ]
  },
  {
   "cell_type": "code",
   "execution_count": 92,
   "metadata": {
    "collapsed": false
   },
   "outputs": [
    {
     "data": {
      "text/plain": [
       "title                 age_group\n",
       "Air Force One (1997)  10-19        3.647059\n",
       "                      20-29        3.666667\n",
       "                      30-39        3.570000\n",
       "                      40-49        3.555556\n",
       "                      50-59        3.750000\n",
       "                      60-69        3.666667\n",
       "                      70-79        3.666667\n",
       "Alien (1979)          10-19        4.111111\n",
       "                      20-29        4.026087\n",
       "                      30-39        4.103448\n",
       "                      40-49        3.833333\n",
       "                      50-59        4.272727\n",
       "                      60-69        3.500000\n",
       "                      70-79        4.000000\n",
       "Aliens (1986)         10-19        4.050000\n",
       "                      20-29        4.087719\n",
       "                      30-39        3.887640\n",
       "                      40-49        3.526316\n",
       "                      50-59        4.235294\n",
       "                      60-69        3.800000\n",
       "Name: rating, dtype: float64"
      ]
     },
     "execution_count": 92,
     "metadata": {},
     "output_type": "execute_result"
    }
   ],
   "source": [
    "by_age.rating.mean().head(20)"
   ]
  },
  {
   "cell_type": "markdown",
   "metadata": {
    "collapsed": true
   },
   "source": [
    "#### you can imagine that for a list of 50 movies, this can produce a very long list. Will be good to pivot this and actually see it like a table"
   ]
  },
  {
   "cell_type": "code",
   "execution_count": 94,
   "metadata": {
    "collapsed": false
   },
   "outputs": [
    {
     "data": {
      "text/html": [
       "<div>\n",
       "<table border=\"1\" class=\"dataframe\">\n",
       "  <thead>\n",
       "    <tr style=\"text-align: right;\">\n",
       "      <th>age_group</th>\n",
       "      <th>0-9</th>\n",
       "      <th>10-19</th>\n",
       "      <th>20-29</th>\n",
       "      <th>30-39</th>\n",
       "      <th>40-49</th>\n",
       "      <th>50-59</th>\n",
       "      <th>60-69</th>\n",
       "      <th>70-79</th>\n",
       "    </tr>\n",
       "    <tr>\n",
       "      <th>title</th>\n",
       "      <th></th>\n",
       "      <th></th>\n",
       "      <th></th>\n",
       "      <th></th>\n",
       "      <th></th>\n",
       "      <th></th>\n",
       "      <th></th>\n",
       "      <th></th>\n",
       "    </tr>\n",
       "  </thead>\n",
       "  <tbody>\n",
       "    <tr>\n",
       "      <th>E.T. the Extra-Terrestrial (1982)</th>\n",
       "      <td>0</td>\n",
       "      <td>3.680000</td>\n",
       "      <td>3.609091</td>\n",
       "      <td>3.806818</td>\n",
       "      <td>4.160000</td>\n",
       "      <td>4.368421</td>\n",
       "      <td>4.375000</td>\n",
       "      <td>0.000000</td>\n",
       "    </tr>\n",
       "    <tr>\n",
       "      <th>Empire Strikes Back, The (1980)</th>\n",
       "      <td>4</td>\n",
       "      <td>4.642857</td>\n",
       "      <td>4.311688</td>\n",
       "      <td>4.052083</td>\n",
       "      <td>4.100000</td>\n",
       "      <td>3.909091</td>\n",
       "      <td>4.250000</td>\n",
       "      <td>5.000000</td>\n",
       "    </tr>\n",
       "    <tr>\n",
       "      <th>English Patient, The (1996)</th>\n",
       "      <td>5</td>\n",
       "      <td>3.739130</td>\n",
       "      <td>3.571429</td>\n",
       "      <td>3.621849</td>\n",
       "      <td>3.634615</td>\n",
       "      <td>3.774648</td>\n",
       "      <td>3.904762</td>\n",
       "      <td>4.500000</td>\n",
       "    </tr>\n",
       "    <tr>\n",
       "      <th>Fargo (1996)</th>\n",
       "      <td>0</td>\n",
       "      <td>3.937500</td>\n",
       "      <td>4.010471</td>\n",
       "      <td>4.230769</td>\n",
       "      <td>4.294118</td>\n",
       "      <td>4.442308</td>\n",
       "      <td>4.000000</td>\n",
       "      <td>4.333333</td>\n",
       "    </tr>\n",
       "    <tr>\n",
       "      <th>Forrest Gump (1994)</th>\n",
       "      <td>5</td>\n",
       "      <td>4.047619</td>\n",
       "      <td>3.785714</td>\n",
       "      <td>3.861702</td>\n",
       "      <td>3.847826</td>\n",
       "      <td>4.000000</td>\n",
       "      <td>3.800000</td>\n",
       "      <td>0.000000</td>\n",
       "    </tr>\n",
       "    <tr>\n",
       "      <th>Fugitive, The (1993)</th>\n",
       "      <td>0</td>\n",
       "      <td>4.320000</td>\n",
       "      <td>3.969925</td>\n",
       "      <td>3.981481</td>\n",
       "      <td>4.190476</td>\n",
       "      <td>4.240000</td>\n",
       "      <td>3.666667</td>\n",
       "      <td>0.000000</td>\n",
       "    </tr>\n",
       "    <tr>\n",
       "      <th>Full Monty, The (1997)</th>\n",
       "      <td>0</td>\n",
       "      <td>3.421053</td>\n",
       "      <td>4.056818</td>\n",
       "      <td>3.933333</td>\n",
       "      <td>3.714286</td>\n",
       "      <td>4.146341</td>\n",
       "      <td>4.166667</td>\n",
       "      <td>3.500000</td>\n",
       "    </tr>\n",
       "    <tr>\n",
       "      <th>Godfather, The (1972)</th>\n",
       "      <td>0</td>\n",
       "      <td>4.400000</td>\n",
       "      <td>4.345070</td>\n",
       "      <td>4.412844</td>\n",
       "      <td>3.929412</td>\n",
       "      <td>4.463415</td>\n",
       "      <td>4.125000</td>\n",
       "      <td>0.000000</td>\n",
       "    </tr>\n",
       "    <tr>\n",
       "      <th>Groundhog Day (1993)</th>\n",
       "      <td>0</td>\n",
       "      <td>3.476190</td>\n",
       "      <td>3.798246</td>\n",
       "      <td>3.786667</td>\n",
       "      <td>3.851064</td>\n",
       "      <td>3.571429</td>\n",
       "      <td>3.571429</td>\n",
       "      <td>4.000000</td>\n",
       "    </tr>\n",
       "    <tr>\n",
       "      <th>Independence Day (ID4) (1996)</th>\n",
       "      <td>0</td>\n",
       "      <td>3.595238</td>\n",
       "      <td>3.291429</td>\n",
       "      <td>3.389381</td>\n",
       "      <td>3.718750</td>\n",
       "      <td>3.888889</td>\n",
       "      <td>2.750000</td>\n",
       "      <td>0.000000</td>\n",
       "    </tr>\n",
       "  </tbody>\n",
       "</table>\n",
       "</div>"
      ],
      "text/plain": [
       "age_group                          0-9     10-19     20-29     30-39  \\\n",
       "title                                                                  \n",
       "E.T. the Extra-Terrestrial (1982)    0  3.680000  3.609091  3.806818   \n",
       "Empire Strikes Back, The (1980)      4  4.642857  4.311688  4.052083   \n",
       "English Patient, The (1996)          5  3.739130  3.571429  3.621849   \n",
       "Fargo (1996)                         0  3.937500  4.010471  4.230769   \n",
       "Forrest Gump (1994)                  5  4.047619  3.785714  3.861702   \n",
       "Fugitive, The (1993)                 0  4.320000  3.969925  3.981481   \n",
       "Full Monty, The (1997)               0  3.421053  4.056818  3.933333   \n",
       "Godfather, The (1972)                0  4.400000  4.345070  4.412844   \n",
       "Groundhog Day (1993)                 0  3.476190  3.798246  3.786667   \n",
       "Independence Day (ID4) (1996)        0  3.595238  3.291429  3.389381   \n",
       "\n",
       "age_group                             40-49     50-59     60-69     70-79  \n",
       "title                                                                      \n",
       "E.T. the Extra-Terrestrial (1982)  4.160000  4.368421  4.375000  0.000000  \n",
       "Empire Strikes Back, The (1980)    4.100000  3.909091  4.250000  5.000000  \n",
       "English Patient, The (1996)        3.634615  3.774648  3.904762  4.500000  \n",
       "Fargo (1996)                       4.294118  4.442308  4.000000  4.333333  \n",
       "Forrest Gump (1994)                3.847826  4.000000  3.800000  0.000000  \n",
       "Fugitive, The (1993)               4.190476  4.240000  3.666667  0.000000  \n",
       "Full Monty, The (1997)             3.714286  4.146341  4.166667  3.500000  \n",
       "Godfather, The (1972)              3.929412  4.463415  4.125000  0.000000  \n",
       "Groundhog Day (1993)               3.851064  3.571429  3.571429  4.000000  \n",
       "Independence Day (ID4) (1996)      3.718750  3.888889  2.750000  0.000000  "
      ]
     },
     "execution_count": 94,
     "metadata": {},
     "output_type": "execute_result"
    }
   ],
   "source": [
    "by_age.rating.mean().unstack(1).fillna(0)[10:20]"
   ]
  },
  {
   "cell_type": "markdown",
   "metadata": {},
   "source": [
    "EXPLANATION: unstack pivots a multi-index along whichever level we specify (here we specified 1 which means the second index). How did we create this? Using the groupby clause on two fields- title and age_group. Conversely,"
   ]
  },
  {
   "cell_type": "code",
   "execution_count": 96,
   "metadata": {
    "collapsed": false
   },
   "outputs": [
    {
     "data": {
      "text/html": [
       "<div>\n",
       "<table border=\"1\" class=\"dataframe\">\n",
       "  <thead>\n",
       "    <tr style=\"text-align: right;\">\n",
       "      <th>title</th>\n",
       "      <th>Air Force One (1997)</th>\n",
       "      <th>Alien (1979)</th>\n",
       "      <th>Aliens (1986)</th>\n",
       "      <th>Apollo 13 (1995)</th>\n",
       "      <th>Back to the Future (1985)</th>\n",
       "      <th>Birdcage, The (1996)</th>\n",
       "      <th>Braveheart (1995)</th>\n",
       "      <th>Conspiracy Theory (1997)</th>\n",
       "      <th>Contact (1997)</th>\n",
       "      <th>Dead Man Walking (1995)</th>\n",
       "      <th>E.T. the Extra-Terrestrial (1982)</th>\n",
       "      <th>Empire Strikes Back, The (1980)</th>\n",
       "      <th>English Patient, The (1996)</th>\n",
       "      <th>Fargo (1996)</th>\n",
       "      <th>Forrest Gump (1994)</th>\n",
       "      <th>Fugitive, The (1993)</th>\n",
       "      <th>Full Monty, The (1997)</th>\n",
       "      <th>Godfather, The (1972)</th>\n",
       "      <th>Groundhog Day (1993)</th>\n",
       "      <th>Independence Day (ID4) (1996)</th>\n",
       "      <th>Indiana Jones and the Last Crusade (1989)</th>\n",
       "      <th>Jaws (1975)</th>\n",
       "      <th>Jerry Maguire (1996)</th>\n",
       "      <th>L.A. Confidential (1997)</th>\n",
       "      <th>Leaving Las Vegas (1995)</th>\n",
       "      <th>Liar Liar (1997)</th>\n",
       "      <th>Men in Black (1997)</th>\n",
       "      <th>Mission: Impossible (1996)</th>\n",
       "      <th>Monty Python and the Holy Grail (1974)</th>\n",
       "      <th>Mr. Holland's Opus (1995)</th>\n",
       "      <th>Princess Bride, The (1987)</th>\n",
       "      <th>Pulp Fiction (1994)</th>\n",
       "      <th>Raiders of the Lost Ark (1981)</th>\n",
       "      <th>Return of the Jedi (1983)</th>\n",
       "      <th>Rock, The (1996)</th>\n",
       "      <th>Saint, The (1997)</th>\n",
       "      <th>Schindler's List (1993)</th>\n",
       "      <th>Scream (1996)</th>\n",
       "      <th>Shawshank Redemption, The (1994)</th>\n",
       "      <th>Silence of the Lambs, The (1991)</th>\n",
       "      <th>Star Trek: First Contact (1996)</th>\n",
       "      <th>Star Wars (1977)</th>\n",
       "      <th>Terminator 2: Judgment Day (1991)</th>\n",
       "      <th>Terminator, The (1984)</th>\n",
       "      <th>Titanic (1997)</th>\n",
       "      <th>Toy Story (1995)</th>\n",
       "      <th>Twelve Monkeys (1995)</th>\n",
       "      <th>Twister (1996)</th>\n",
       "      <th>When Harry Met Sally... (1989)</th>\n",
       "      <th>Willy Wonka and the Chocolate Factory (1971)</th>\n",
       "    </tr>\n",
       "    <tr>\n",
       "      <th>age_group</th>\n",
       "      <th></th>\n",
       "      <th></th>\n",
       "      <th></th>\n",
       "      <th></th>\n",
       "      <th></th>\n",
       "      <th></th>\n",
       "      <th></th>\n",
       "      <th></th>\n",
       "      <th></th>\n",
       "      <th></th>\n",
       "      <th></th>\n",
       "      <th></th>\n",
       "      <th></th>\n",
       "      <th></th>\n",
       "      <th></th>\n",
       "      <th></th>\n",
       "      <th></th>\n",
       "      <th></th>\n",
       "      <th></th>\n",
       "      <th></th>\n",
       "      <th></th>\n",
       "      <th></th>\n",
       "      <th></th>\n",
       "      <th></th>\n",
       "      <th></th>\n",
       "      <th></th>\n",
       "      <th></th>\n",
       "      <th></th>\n",
       "      <th></th>\n",
       "      <th></th>\n",
       "      <th></th>\n",
       "      <th></th>\n",
       "      <th></th>\n",
       "      <th></th>\n",
       "      <th></th>\n",
       "      <th></th>\n",
       "      <th></th>\n",
       "      <th></th>\n",
       "      <th></th>\n",
       "      <th></th>\n",
       "      <th></th>\n",
       "      <th></th>\n",
       "      <th></th>\n",
       "      <th></th>\n",
       "      <th></th>\n",
       "      <th></th>\n",
       "      <th></th>\n",
       "      <th></th>\n",
       "      <th></th>\n",
       "      <th></th>\n",
       "    </tr>\n",
       "  </thead>\n",
       "  <tbody>\n",
       "    <tr>\n",
       "      <th>0-9</th>\n",
       "      <td>0.000000</td>\n",
       "      <td>0.000000</td>\n",
       "      <td>0.000000</td>\n",
       "      <td>4.000000</td>\n",
       "      <td>0.000000</td>\n",
       "      <td>0.000000</td>\n",
       "      <td>0.000000</td>\n",
       "      <td>0.000000</td>\n",
       "      <td>5.000000</td>\n",
       "      <td>0.000000</td>\n",
       "      <td>0.000000</td>\n",
       "      <td>4.000000</td>\n",
       "      <td>5.000000</td>\n",
       "      <td>0.000000</td>\n",
       "      <td>5.000000</td>\n",
       "      <td>0.000000</td>\n",
       "      <td>0.000000</td>\n",
       "      <td>0.000000</td>\n",
       "      <td>0.000000</td>\n",
       "      <td>0.000000</td>\n",
       "      <td>0.000000</td>\n",
       "      <td>0.000000</td>\n",
       "      <td>0.000000</td>\n",
       "      <td>0.000000</td>\n",
       "      <td>0.000000</td>\n",
       "      <td>4.000000</td>\n",
       "      <td>4.000000</td>\n",
       "      <td>0.000000</td>\n",
       "      <td>0.000000</td>\n",
       "      <td>0.000000</td>\n",
       "      <td>0.000000</td>\n",
       "      <td>0.000000</td>\n",
       "      <td>5.000000</td>\n",
       "      <td>4.000000</td>\n",
       "      <td>0.000000</td>\n",
       "      <td>0.000000</td>\n",
       "      <td>0.00000</td>\n",
       "      <td>0.000000</td>\n",
       "      <td>0.000000</td>\n",
       "      <td>0.000000</td>\n",
       "      <td>0.000000</td>\n",
       "      <td>3.000000</td>\n",
       "      <td>0.000000</td>\n",
       "      <td>0.000000</td>\n",
       "      <td>5.000000</td>\n",
       "      <td>0.000000</td>\n",
       "      <td>4.000000</td>\n",
       "      <td>0.000000</td>\n",
       "      <td>0.000000</td>\n",
       "      <td>0.000000</td>\n",
       "    </tr>\n",
       "    <tr>\n",
       "      <th>10-19</th>\n",
       "      <td>3.647059</td>\n",
       "      <td>4.111111</td>\n",
       "      <td>4.050000</td>\n",
       "      <td>3.954545</td>\n",
       "      <td>4.037037</td>\n",
       "      <td>3.217391</td>\n",
       "      <td>4.384615</td>\n",
       "      <td>3.565217</td>\n",
       "      <td>3.693878</td>\n",
       "      <td>3.647059</td>\n",
       "      <td>3.680000</td>\n",
       "      <td>4.642857</td>\n",
       "      <td>3.739130</td>\n",
       "      <td>3.937500</td>\n",
       "      <td>4.047619</td>\n",
       "      <td>4.320000</td>\n",
       "      <td>3.421053</td>\n",
       "      <td>4.400000</td>\n",
       "      <td>3.476190</td>\n",
       "      <td>3.595238</td>\n",
       "      <td>4.130435</td>\n",
       "      <td>3.863636</td>\n",
       "      <td>3.928571</td>\n",
       "      <td>4.363636</td>\n",
       "      <td>4.000000</td>\n",
       "      <td>3.191489</td>\n",
       "      <td>3.900000</td>\n",
       "      <td>3.441176</td>\n",
       "      <td>4.285714</td>\n",
       "      <td>3.814815</td>\n",
       "      <td>4.214286</td>\n",
       "      <td>4.031250</td>\n",
       "      <td>4.250000</td>\n",
       "      <td>4.488372</td>\n",
       "      <td>4.058824</td>\n",
       "      <td>3.342857</td>\n",
       "      <td>4.26087</td>\n",
       "      <td>3.784615</td>\n",
       "      <td>4.666667</td>\n",
       "      <td>4.095238</td>\n",
       "      <td>3.576923</td>\n",
       "      <td>4.630435</td>\n",
       "      <td>4.173913</td>\n",
       "      <td>3.619048</td>\n",
       "      <td>4.611111</td>\n",
       "      <td>3.621622</td>\n",
       "      <td>3.916667</td>\n",
       "      <td>3.000000</td>\n",
       "      <td>3.500000</td>\n",
       "      <td>3.387097</td>\n",
       "    </tr>\n",
       "    <tr>\n",
       "      <th>20-29</th>\n",
       "      <td>3.666667</td>\n",
       "      <td>4.026087</td>\n",
       "      <td>4.087719</td>\n",
       "      <td>3.845455</td>\n",
       "      <td>3.720588</td>\n",
       "      <td>3.413223</td>\n",
       "      <td>4.194915</td>\n",
       "      <td>3.382114</td>\n",
       "      <td>3.785714</td>\n",
       "      <td>3.926606</td>\n",
       "      <td>3.609091</td>\n",
       "      <td>4.311688</td>\n",
       "      <td>3.571429</td>\n",
       "      <td>4.010471</td>\n",
       "      <td>3.785714</td>\n",
       "      <td>3.969925</td>\n",
       "      <td>4.056818</td>\n",
       "      <td>4.345070</td>\n",
       "      <td>3.798246</td>\n",
       "      <td>3.291429</td>\n",
       "      <td>3.944056</td>\n",
       "      <td>3.870000</td>\n",
       "      <td>3.793548</td>\n",
       "      <td>4.096154</td>\n",
       "      <td>3.773913</td>\n",
       "      <td>3.321244</td>\n",
       "      <td>3.705426</td>\n",
       "      <td>3.378378</td>\n",
       "      <td>4.154412</td>\n",
       "      <td>3.849057</td>\n",
       "      <td>4.335714</td>\n",
       "      <td>4.197605</td>\n",
       "      <td>4.269939</td>\n",
       "      <td>4.067308</td>\n",
       "      <td>3.690476</td>\n",
       "      <td>3.179688</td>\n",
       "      <td>4.46789</td>\n",
       "      <td>3.669767</td>\n",
       "      <td>4.585366</td>\n",
       "      <td>4.434211</td>\n",
       "      <td>3.641975</td>\n",
       "      <td>4.413043</td>\n",
       "      <td>3.969466</td>\n",
       "      <td>3.875969</td>\n",
       "      <td>4.336066</td>\n",
       "      <td>3.920635</td>\n",
       "      <td>3.847458</td>\n",
       "      <td>3.200000</td>\n",
       "      <td>4.000000</td>\n",
       "      <td>3.820144</td>\n",
       "    </tr>\n",
       "    <tr>\n",
       "      <th>30-39</th>\n",
       "      <td>3.570000</td>\n",
       "      <td>4.103448</td>\n",
       "      <td>3.887640</td>\n",
       "      <td>4.064935</td>\n",
       "      <td>3.915789</td>\n",
       "      <td>3.514286</td>\n",
       "      <td>4.156627</td>\n",
       "      <td>3.419355</td>\n",
       "      <td>3.847458</td>\n",
       "      <td>3.814286</td>\n",
       "      <td>3.806818</td>\n",
       "      <td>4.052083</td>\n",
       "      <td>3.621849</td>\n",
       "      <td>4.230769</td>\n",
       "      <td>3.861702</td>\n",
       "      <td>3.981481</td>\n",
       "      <td>3.933333</td>\n",
       "      <td>4.412844</td>\n",
       "      <td>3.786667</td>\n",
       "      <td>3.389381</td>\n",
       "      <td>3.797619</td>\n",
       "      <td>3.648352</td>\n",
       "      <td>3.708333</td>\n",
       "      <td>4.089552</td>\n",
       "      <td>3.506024</td>\n",
       "      <td>3.080645</td>\n",
       "      <td>3.681818</td>\n",
       "      <td>3.180723</td>\n",
       "      <td>4.094737</td>\n",
       "      <td>3.693333</td>\n",
       "      <td>4.155556</td>\n",
       "      <td>4.074766</td>\n",
       "      <td>4.338983</td>\n",
       "      <td>3.805970</td>\n",
       "      <td>3.625000</td>\n",
       "      <td>3.068493</td>\n",
       "      <td>4.47561</td>\n",
       "      <td>3.250000</td>\n",
       "      <td>4.323944</td>\n",
       "      <td>4.214876</td>\n",
       "      <td>3.737864</td>\n",
       "      <td>4.305732</td>\n",
       "      <td>3.977011</td>\n",
       "      <td>4.105882</td>\n",
       "      <td>4.236111</td>\n",
       "      <td>4.033058</td>\n",
       "      <td>3.788462</td>\n",
       "      <td>3.133333</td>\n",
       "      <td>3.882353</td>\n",
       "      <td>3.908046</td>\n",
       "    </tr>\n",
       "    <tr>\n",
       "      <th>40-49</th>\n",
       "      <td>3.555556</td>\n",
       "      <td>3.833333</td>\n",
       "      <td>3.526316</td>\n",
       "      <td>3.822222</td>\n",
       "      <td>4.036364</td>\n",
       "      <td>3.500000</td>\n",
       "      <td>4.051282</td>\n",
       "      <td>3.465116</td>\n",
       "      <td>3.866667</td>\n",
       "      <td>3.754386</td>\n",
       "      <td>4.160000</td>\n",
       "      <td>4.100000</td>\n",
       "      <td>3.634615</td>\n",
       "      <td>4.294118</td>\n",
       "      <td>3.847826</td>\n",
       "      <td>4.190476</td>\n",
       "      <td>3.714286</td>\n",
       "      <td>3.929412</td>\n",
       "      <td>3.851064</td>\n",
       "      <td>3.718750</td>\n",
       "      <td>3.980000</td>\n",
       "      <td>3.725000</td>\n",
       "      <td>3.407407</td>\n",
       "      <td>4.220000</td>\n",
       "      <td>3.568627</td>\n",
       "      <td>2.916667</td>\n",
       "      <td>3.625000</td>\n",
       "      <td>3.346154</td>\n",
       "      <td>3.717949</td>\n",
       "      <td>3.875000</td>\n",
       "      <td>3.878049</td>\n",
       "      <td>3.936170</td>\n",
       "      <td>4.173913</td>\n",
       "      <td>4.000000</td>\n",
       "      <td>3.673469</td>\n",
       "      <td>3.078431</td>\n",
       "      <td>4.50000</td>\n",
       "      <td>2.774194</td>\n",
       "      <td>4.378378</td>\n",
       "      <td>4.133333</td>\n",
       "      <td>3.760000</td>\n",
       "      <td>4.166667</td>\n",
       "      <td>4.212121</td>\n",
       "      <td>3.975610</td>\n",
       "      <td>3.984848</td>\n",
       "      <td>3.700000</td>\n",
       "      <td>3.653846</td>\n",
       "      <td>3.479167</td>\n",
       "      <td>3.825000</td>\n",
       "      <td>3.058824</td>\n",
       "    </tr>\n",
       "    <tr>\n",
       "      <th>50-59</th>\n",
       "      <td>3.750000</td>\n",
       "      <td>4.272727</td>\n",
       "      <td>4.235294</td>\n",
       "      <td>4.187500</td>\n",
       "      <td>3.500000</td>\n",
       "      <td>3.346154</td>\n",
       "      <td>3.956522</td>\n",
       "      <td>3.538462</td>\n",
       "      <td>3.739130</td>\n",
       "      <td>4.294118</td>\n",
       "      <td>4.368421</td>\n",
       "      <td>3.909091</td>\n",
       "      <td>3.774648</td>\n",
       "      <td>4.442308</td>\n",
       "      <td>4.000000</td>\n",
       "      <td>4.240000</td>\n",
       "      <td>4.146341</td>\n",
       "      <td>4.463415</td>\n",
       "      <td>3.571429</td>\n",
       "      <td>3.888889</td>\n",
       "      <td>4.043478</td>\n",
       "      <td>3.956522</td>\n",
       "      <td>3.692308</td>\n",
       "      <td>4.261905</td>\n",
       "      <td>4.000000</td>\n",
       "      <td>3.000000</td>\n",
       "      <td>4.150000</td>\n",
       "      <td>3.125000</td>\n",
       "      <td>3.800000</td>\n",
       "      <td>3.551724</td>\n",
       "      <td>3.809524</td>\n",
       "      <td>3.500000</td>\n",
       "      <td>4.000000</td>\n",
       "      <td>4.000000</td>\n",
       "      <td>3.625000</td>\n",
       "      <td>2.750000</td>\n",
       "      <td>4.62963</td>\n",
       "      <td>3.000000</td>\n",
       "      <td>4.185185</td>\n",
       "      <td>4.300000</td>\n",
       "      <td>3.272727</td>\n",
       "      <td>4.469388</td>\n",
       "      <td>3.941176</td>\n",
       "      <td>3.900000</td>\n",
       "      <td>4.210526</td>\n",
       "      <td>3.758621</td>\n",
       "      <td>3.650000</td>\n",
       "      <td>3.300000</td>\n",
       "      <td>3.904762</td>\n",
       "      <td>2.857143</td>\n",
       "    </tr>\n",
       "    <tr>\n",
       "      <th>60-69</th>\n",
       "      <td>3.666667</td>\n",
       "      <td>3.500000</td>\n",
       "      <td>3.800000</td>\n",
       "      <td>3.750000</td>\n",
       "      <td>3.857143</td>\n",
       "      <td>3.888889</td>\n",
       "      <td>3.714286</td>\n",
       "      <td>2.600000</td>\n",
       "      <td>3.777778</td>\n",
       "      <td>4.000000</td>\n",
       "      <td>4.375000</td>\n",
       "      <td>4.250000</td>\n",
       "      <td>3.904762</td>\n",
       "      <td>4.000000</td>\n",
       "      <td>3.800000</td>\n",
       "      <td>3.666667</td>\n",
       "      <td>4.166667</td>\n",
       "      <td>4.125000</td>\n",
       "      <td>3.571429</td>\n",
       "      <td>2.750000</td>\n",
       "      <td>3.857143</td>\n",
       "      <td>3.250000</td>\n",
       "      <td>3.583333</td>\n",
       "      <td>4.181818</td>\n",
       "      <td>3.875000</td>\n",
       "      <td>3.100000</td>\n",
       "      <td>4.125000</td>\n",
       "      <td>3.333333</td>\n",
       "      <td>4.000000</td>\n",
       "      <td>3.750000</td>\n",
       "      <td>3.333333</td>\n",
       "      <td>4.142857</td>\n",
       "      <td>4.250000</td>\n",
       "      <td>3.333333</td>\n",
       "      <td>3.285714</td>\n",
       "      <td>3.750000</td>\n",
       "      <td>4.62500</td>\n",
       "      <td>3.555556</td>\n",
       "      <td>4.000000</td>\n",
       "      <td>4.250000</td>\n",
       "      <td>3.000000</td>\n",
       "      <td>4.000000</td>\n",
       "      <td>3.500000</td>\n",
       "      <td>3.600000</td>\n",
       "      <td>3.846154</td>\n",
       "      <td>3.400000</td>\n",
       "      <td>3.000000</td>\n",
       "      <td>3.250000</td>\n",
       "      <td>3.800000</td>\n",
       "      <td>3.000000</td>\n",
       "    </tr>\n",
       "    <tr>\n",
       "      <th>70-79</th>\n",
       "      <td>3.666667</td>\n",
       "      <td>4.000000</td>\n",
       "      <td>3.000000</td>\n",
       "      <td>4.000000</td>\n",
       "      <td>4.000000</td>\n",
       "      <td>0.000000</td>\n",
       "      <td>4.000000</td>\n",
       "      <td>0.000000</td>\n",
       "      <td>0.000000</td>\n",
       "      <td>0.000000</td>\n",
       "      <td>0.000000</td>\n",
       "      <td>5.000000</td>\n",
       "      <td>4.500000</td>\n",
       "      <td>4.333333</td>\n",
       "      <td>0.000000</td>\n",
       "      <td>0.000000</td>\n",
       "      <td>3.500000</td>\n",
       "      <td>0.000000</td>\n",
       "      <td>4.000000</td>\n",
       "      <td>0.000000</td>\n",
       "      <td>4.000000</td>\n",
       "      <td>0.000000</td>\n",
       "      <td>0.000000</td>\n",
       "      <td>4.000000</td>\n",
       "      <td>0.000000</td>\n",
       "      <td>2.000000</td>\n",
       "      <td>3.000000</td>\n",
       "      <td>0.000000</td>\n",
       "      <td>0.000000</td>\n",
       "      <td>0.000000</td>\n",
       "      <td>4.000000</td>\n",
       "      <td>4.000000</td>\n",
       "      <td>0.000000</td>\n",
       "      <td>5.000000</td>\n",
       "      <td>0.000000</td>\n",
       "      <td>1.000000</td>\n",
       "      <td>1.00000</td>\n",
       "      <td>0.000000</td>\n",
       "      <td>0.000000</td>\n",
       "      <td>4.500000</td>\n",
       "      <td>5.000000</td>\n",
       "      <td>4.000000</td>\n",
       "      <td>0.000000</td>\n",
       "      <td>0.000000</td>\n",
       "      <td>4.000000</td>\n",
       "      <td>5.000000</td>\n",
       "      <td>0.000000</td>\n",
       "      <td>0.000000</td>\n",
       "      <td>4.500000</td>\n",
       "      <td>0.000000</td>\n",
       "    </tr>\n",
       "  </tbody>\n",
       "</table>\n",
       "</div>"
      ],
      "text/plain": [
       "title      Air Force One (1997)  Alien (1979)  Aliens (1986)  \\\n",
       "age_group                                                      \n",
       "0-9                    0.000000      0.000000       0.000000   \n",
       "10-19                  3.647059      4.111111       4.050000   \n",
       "20-29                  3.666667      4.026087       4.087719   \n",
       "30-39                  3.570000      4.103448       3.887640   \n",
       "40-49                  3.555556      3.833333       3.526316   \n",
       "50-59                  3.750000      4.272727       4.235294   \n",
       "60-69                  3.666667      3.500000       3.800000   \n",
       "70-79                  3.666667      4.000000       3.000000   \n",
       "\n",
       "title      Apollo 13 (1995)  Back to the Future (1985)  Birdcage, The (1996)  \\\n",
       "age_group                                                                      \n",
       "0-9                4.000000                   0.000000              0.000000   \n",
       "10-19              3.954545                   4.037037              3.217391   \n",
       "20-29              3.845455                   3.720588              3.413223   \n",
       "30-39              4.064935                   3.915789              3.514286   \n",
       "40-49              3.822222                   4.036364              3.500000   \n",
       "50-59              4.187500                   3.500000              3.346154   \n",
       "60-69              3.750000                   3.857143              3.888889   \n",
       "70-79              4.000000                   4.000000              0.000000   \n",
       "\n",
       "title      Braveheart (1995)  Conspiracy Theory (1997)  Contact (1997)  \\\n",
       "age_group                                                                \n",
       "0-9                 0.000000                  0.000000        5.000000   \n",
       "10-19               4.384615                  3.565217        3.693878   \n",
       "20-29               4.194915                  3.382114        3.785714   \n",
       "30-39               4.156627                  3.419355        3.847458   \n",
       "40-49               4.051282                  3.465116        3.866667   \n",
       "50-59               3.956522                  3.538462        3.739130   \n",
       "60-69               3.714286                  2.600000        3.777778   \n",
       "70-79               4.000000                  0.000000        0.000000   \n",
       "\n",
       "title      Dead Man Walking (1995)  E.T. the Extra-Terrestrial (1982)  \\\n",
       "age_group                                                               \n",
       "0-9                       0.000000                           0.000000   \n",
       "10-19                     3.647059                           3.680000   \n",
       "20-29                     3.926606                           3.609091   \n",
       "30-39                     3.814286                           3.806818   \n",
       "40-49                     3.754386                           4.160000   \n",
       "50-59                     4.294118                           4.368421   \n",
       "60-69                     4.000000                           4.375000   \n",
       "70-79                     0.000000                           0.000000   \n",
       "\n",
       "title      Empire Strikes Back, The (1980)  English Patient, The (1996)  \\\n",
       "age_group                                                                 \n",
       "0-9                               4.000000                     5.000000   \n",
       "10-19                             4.642857                     3.739130   \n",
       "20-29                             4.311688                     3.571429   \n",
       "30-39                             4.052083                     3.621849   \n",
       "40-49                             4.100000                     3.634615   \n",
       "50-59                             3.909091                     3.774648   \n",
       "60-69                             4.250000                     3.904762   \n",
       "70-79                             5.000000                     4.500000   \n",
       "\n",
       "title      Fargo (1996)  Forrest Gump (1994)  Fugitive, The (1993)  \\\n",
       "age_group                                                            \n",
       "0-9            0.000000             5.000000              0.000000   \n",
       "10-19          3.937500             4.047619              4.320000   \n",
       "20-29          4.010471             3.785714              3.969925   \n",
       "30-39          4.230769             3.861702              3.981481   \n",
       "40-49          4.294118             3.847826              4.190476   \n",
       "50-59          4.442308             4.000000              4.240000   \n",
       "60-69          4.000000             3.800000              3.666667   \n",
       "70-79          4.333333             0.000000              0.000000   \n",
       "\n",
       "title      Full Monty, The (1997)  Godfather, The (1972)  \\\n",
       "age_group                                                  \n",
       "0-9                      0.000000               0.000000   \n",
       "10-19                    3.421053               4.400000   \n",
       "20-29                    4.056818               4.345070   \n",
       "30-39                    3.933333               4.412844   \n",
       "40-49                    3.714286               3.929412   \n",
       "50-59                    4.146341               4.463415   \n",
       "60-69                    4.166667               4.125000   \n",
       "70-79                    3.500000               0.000000   \n",
       "\n",
       "title      Groundhog Day (1993)  Independence Day (ID4) (1996)  \\\n",
       "age_group                                                        \n",
       "0-9                    0.000000                       0.000000   \n",
       "10-19                  3.476190                       3.595238   \n",
       "20-29                  3.798246                       3.291429   \n",
       "30-39                  3.786667                       3.389381   \n",
       "40-49                  3.851064                       3.718750   \n",
       "50-59                  3.571429                       3.888889   \n",
       "60-69                  3.571429                       2.750000   \n",
       "70-79                  4.000000                       0.000000   \n",
       "\n",
       "title      Indiana Jones and the Last Crusade (1989)  Jaws (1975)  \\\n",
       "age_group                                                           \n",
       "0-9                                         0.000000     0.000000   \n",
       "10-19                                       4.130435     3.863636   \n",
       "20-29                                       3.944056     3.870000   \n",
       "30-39                                       3.797619     3.648352   \n",
       "40-49                                       3.980000     3.725000   \n",
       "50-59                                       4.043478     3.956522   \n",
       "60-69                                       3.857143     3.250000   \n",
       "70-79                                       4.000000     0.000000   \n",
       "\n",
       "title      Jerry Maguire (1996)  L.A. Confidential (1997)  \\\n",
       "age_group                                                   \n",
       "0-9                    0.000000                  0.000000   \n",
       "10-19                  3.928571                  4.363636   \n",
       "20-29                  3.793548                  4.096154   \n",
       "30-39                  3.708333                  4.089552   \n",
       "40-49                  3.407407                  4.220000   \n",
       "50-59                  3.692308                  4.261905   \n",
       "60-69                  3.583333                  4.181818   \n",
       "70-79                  0.000000                  4.000000   \n",
       "\n",
       "title      Leaving Las Vegas (1995)  Liar Liar (1997)  Men in Black (1997)  \\\n",
       "age_group                                                                    \n",
       "0-9                        0.000000          4.000000             4.000000   \n",
       "10-19                      4.000000          3.191489             3.900000   \n",
       "20-29                      3.773913          3.321244             3.705426   \n",
       "30-39                      3.506024          3.080645             3.681818   \n",
       "40-49                      3.568627          2.916667             3.625000   \n",
       "50-59                      4.000000          3.000000             4.150000   \n",
       "60-69                      3.875000          3.100000             4.125000   \n",
       "70-79                      0.000000          2.000000             3.000000   \n",
       "\n",
       "title      Mission: Impossible (1996)  Monty Python and the Holy Grail (1974)  \\\n",
       "age_group                                                                       \n",
       "0-9                          0.000000                                0.000000   \n",
       "10-19                        3.441176                                4.285714   \n",
       "20-29                        3.378378                                4.154412   \n",
       "30-39                        3.180723                                4.094737   \n",
       "40-49                        3.346154                                3.717949   \n",
       "50-59                        3.125000                                3.800000   \n",
       "60-69                        3.333333                                4.000000   \n",
       "70-79                        0.000000                                0.000000   \n",
       "\n",
       "title      Mr. Holland's Opus (1995)  Princess Bride, The (1987)  \\\n",
       "age_group                                                          \n",
       "0-9                         0.000000                    0.000000   \n",
       "10-19                       3.814815                    4.214286   \n",
       "20-29                       3.849057                    4.335714   \n",
       "30-39                       3.693333                    4.155556   \n",
       "40-49                       3.875000                    3.878049   \n",
       "50-59                       3.551724                    3.809524   \n",
       "60-69                       3.750000                    3.333333   \n",
       "70-79                       0.000000                    4.000000   \n",
       "\n",
       "title      Pulp Fiction (1994)  Raiders of the Lost Ark (1981)  \\\n",
       "age_group                                                        \n",
       "0-9                   0.000000                        5.000000   \n",
       "10-19                 4.031250                        4.250000   \n",
       "20-29                 4.197605                        4.269939   \n",
       "30-39                 4.074766                        4.338983   \n",
       "40-49                 3.936170                        4.173913   \n",
       "50-59                 3.500000                        4.000000   \n",
       "60-69                 4.142857                        4.250000   \n",
       "70-79                 4.000000                        0.000000   \n",
       "\n",
       "title      Return of the Jedi (1983)  Rock, The (1996)  Saint, The (1997)  \\\n",
       "age_group                                                                   \n",
       "0-9                         4.000000          0.000000           0.000000   \n",
       "10-19                       4.488372          4.058824           3.342857   \n",
       "20-29                       4.067308          3.690476           3.179688   \n",
       "30-39                       3.805970          3.625000           3.068493   \n",
       "40-49                       4.000000          3.673469           3.078431   \n",
       "50-59                       4.000000          3.625000           2.750000   \n",
       "60-69                       3.333333          3.285714           3.750000   \n",
       "70-79                       5.000000          0.000000           1.000000   \n",
       "\n",
       "title      Schindler's List (1993)  Scream (1996)  \\\n",
       "age_group                                           \n",
       "0-9                        0.00000       0.000000   \n",
       "10-19                      4.26087       3.784615   \n",
       "20-29                      4.46789       3.669767   \n",
       "30-39                      4.47561       3.250000   \n",
       "40-49                      4.50000       2.774194   \n",
       "50-59                      4.62963       3.000000   \n",
       "60-69                      4.62500       3.555556   \n",
       "70-79                      1.00000       0.000000   \n",
       "\n",
       "title      Shawshank Redemption, The (1994)  Silence of the Lambs, The (1991)  \\\n",
       "age_group                                                                       \n",
       "0-9                                0.000000                          0.000000   \n",
       "10-19                              4.666667                          4.095238   \n",
       "20-29                              4.585366                          4.434211   \n",
       "30-39                              4.323944                          4.214876   \n",
       "40-49                              4.378378                          4.133333   \n",
       "50-59                              4.185185                          4.300000   \n",
       "60-69                              4.000000                          4.250000   \n",
       "70-79                              0.000000                          4.500000   \n",
       "\n",
       "title      Star Trek: First Contact (1996)  Star Wars (1977)  \\\n",
       "age_group                                                      \n",
       "0-9                               0.000000          3.000000   \n",
       "10-19                             3.576923          4.630435   \n",
       "20-29                             3.641975          4.413043   \n",
       "30-39                             3.737864          4.305732   \n",
       "40-49                             3.760000          4.166667   \n",
       "50-59                             3.272727          4.469388   \n",
       "60-69                             3.000000          4.000000   \n",
       "70-79                             5.000000          4.000000   \n",
       "\n",
       "title      Terminator 2: Judgment Day (1991)  Terminator, The (1984)  \\\n",
       "age_group                                                              \n",
       "0-9                                 0.000000                0.000000   \n",
       "10-19                               4.173913                3.619048   \n",
       "20-29                               3.969466                3.875969   \n",
       "30-39                               3.977011                4.105882   \n",
       "40-49                               4.212121                3.975610   \n",
       "50-59                               3.941176                3.900000   \n",
       "60-69                               3.500000                3.600000   \n",
       "70-79                               0.000000                0.000000   \n",
       "\n",
       "title      Titanic (1997)  Toy Story (1995)  Twelve Monkeys (1995)  \\\n",
       "age_group                                                            \n",
       "0-9              5.000000          0.000000               4.000000   \n",
       "10-19            4.611111          3.621622               3.916667   \n",
       "20-29            4.336066          3.920635               3.847458   \n",
       "30-39            4.236111          4.033058               3.788462   \n",
       "40-49            3.984848          3.700000               3.653846   \n",
       "50-59            4.210526          3.758621               3.650000   \n",
       "60-69            3.846154          3.400000               3.000000   \n",
       "70-79            4.000000          5.000000               0.000000   \n",
       "\n",
       "title      Twister (1996)  When Harry Met Sally... (1989)  \\\n",
       "age_group                                                   \n",
       "0-9              0.000000                        0.000000   \n",
       "10-19            3.000000                        3.500000   \n",
       "20-29            3.200000                        4.000000   \n",
       "30-39            3.133333                        3.882353   \n",
       "40-49            3.479167                        3.825000   \n",
       "50-59            3.300000                        3.904762   \n",
       "60-69            3.250000                        3.800000   \n",
       "70-79            0.000000                        4.500000   \n",
       "\n",
       "title      Willy Wonka and the Chocolate Factory (1971)  \n",
       "age_group                                                \n",
       "0-9                                            0.000000  \n",
       "10-19                                          3.387097  \n",
       "20-29                                          3.820144  \n",
       "30-39                                          3.908046  \n",
       "40-49                                          3.058824  \n",
       "50-59                                          2.857143  \n",
       "60-69                                          3.000000  \n",
       "70-79                                          0.000000  "
      ]
     },
     "execution_count": 96,
     "metadata": {},
     "output_type": "execute_result"
    }
   ],
   "source": [
    "by_age.rating.mean().unstack(0).fillna(0)"
   ]
  },
  {
   "cell_type": "markdown",
   "metadata": {},
   "source": [
    "### Which movies do men and women most disagree upon?"
   ]
  },
  {
   "cell_type": "markdown",
   "metadata": {},
   "source": [
    "In SQL, you would do this something like:\n",
    "\n",
    "Select title, avg(case when gender = 'F' then rating else null end) as female_rating, <br/>\n",
    "avg(case when gender = 'M' then rating else null end) as male_rating <br/>\n",
    "FROM movielens <br/>\n",
    "group by title\n",
    "\n",
    "#### Dataframe has a pivot_table method that is a lot more elegant"
   ]
  },
  {
   "cell_type": "code",
   "execution_count": 126,
   "metadata": {
    "collapsed": false
   },
   "outputs": [
    {
     "data": {
      "text/html": [
       "<div>\n",
       "<table border=\"1\" class=\"dataframe\">\n",
       "  <thead>\n",
       "    <tr style=\"text-align: right;\">\n",
       "      <th></th>\n",
       "      <th>gender</th>\n",
       "      <th>F</th>\n",
       "      <th>M</th>\n",
       "    </tr>\n",
       "    <tr>\n",
       "      <th>movie_id</th>\n",
       "      <th>title</th>\n",
       "      <th></th>\n",
       "      <th></th>\n",
       "    </tr>\n",
       "  </thead>\n",
       "  <tbody>\n",
       "    <tr>\n",
       "      <th>1</th>\n",
       "      <th>Toy Story (1995)</th>\n",
       "      <td>3.789916</td>\n",
       "      <td>3.909910</td>\n",
       "    </tr>\n",
       "    <tr>\n",
       "      <th>2</th>\n",
       "      <th>GoldenEye (1995)</th>\n",
       "      <td>3.368421</td>\n",
       "      <td>3.178571</td>\n",
       "    </tr>\n",
       "    <tr>\n",
       "      <th>3</th>\n",
       "      <th>Four Rooms (1995)</th>\n",
       "      <td>2.687500</td>\n",
       "      <td>3.108108</td>\n",
       "    </tr>\n",
       "    <tr>\n",
       "      <th>4</th>\n",
       "      <th>Get Shorty (1995)</th>\n",
       "      <td>3.400000</td>\n",
       "      <td>3.591463</td>\n",
       "    </tr>\n",
       "    <tr>\n",
       "      <th>5</th>\n",
       "      <th>Copycat (1995)</th>\n",
       "      <td>3.772727</td>\n",
       "      <td>3.140625</td>\n",
       "    </tr>\n",
       "    <tr>\n",
       "      <th>6</th>\n",
       "      <th>Shanghai Triad (Yao a yao yao dao waipo qiao) (1995)</th>\n",
       "      <td>3.600000</td>\n",
       "      <td>3.571429</td>\n",
       "    </tr>\n",
       "    <tr>\n",
       "      <th>7</th>\n",
       "      <th>Twelve Monkeys (1995)</th>\n",
       "      <td>3.560976</td>\n",
       "      <td>3.861290</td>\n",
       "    </tr>\n",
       "    <tr>\n",
       "      <th>8</th>\n",
       "      <th>Babe (1995)</th>\n",
       "      <td>4.050000</td>\n",
       "      <td>3.974843</td>\n",
       "    </tr>\n",
       "    <tr>\n",
       "      <th>9</th>\n",
       "      <th>Dead Man Walking (1995)</th>\n",
       "      <td>3.927711</td>\n",
       "      <td>3.884259</td>\n",
       "    </tr>\n",
       "    <tr>\n",
       "      <th>10</th>\n",
       "      <th>Richard III (1995)</th>\n",
       "      <td>3.700000</td>\n",
       "      <td>3.869565</td>\n",
       "    </tr>\n",
       "  </tbody>\n",
       "</table>\n",
       "</div>"
      ],
      "text/plain": [
       "gender                                                              F  \\\n",
       "movie_id title                                                          \n",
       "1        Toy Story (1995)                                    3.789916   \n",
       "2        GoldenEye (1995)                                    3.368421   \n",
       "3        Four Rooms (1995)                                   2.687500   \n",
       "4        Get Shorty (1995)                                   3.400000   \n",
       "5        Copycat (1995)                                      3.772727   \n",
       "6        Shanghai Triad (Yao a yao yao dao waipo qiao) (...  3.600000   \n",
       "7        Twelve Monkeys (1995)                               3.560976   \n",
       "8        Babe (1995)                                         4.050000   \n",
       "9        Dead Man Walking (1995)                             3.927711   \n",
       "10       Richard III (1995)                                  3.700000   \n",
       "\n",
       "gender                                                              M  \n",
       "movie_id title                                                         \n",
       "1        Toy Story (1995)                                    3.909910  \n",
       "2        GoldenEye (1995)                                    3.178571  \n",
       "3        Four Rooms (1995)                                   3.108108  \n",
       "4        Get Shorty (1995)                                   3.591463  \n",
       "5        Copycat (1995)                                      3.140625  \n",
       "6        Shanghai Triad (Yao a yao yao dao waipo qiao) (...  3.571429  \n",
       "7        Twelve Monkeys (1995)                               3.861290  \n",
       "8        Babe (1995)                                         3.974843  \n",
       "9        Dead Man Walking (1995)                             3.884259  \n",
       "10       Richard III (1995)                                  3.869565  "
      ]
     },
     "execution_count": 126,
     "metadata": {},
     "output_type": "execute_result"
    }
   ],
   "source": [
    "# remove index on movie_id from the previous question\n",
    "#movielens.reset_index('movie_id', inplace = True)\n",
    "\n",
    "# pivoting the dataset\n",
    "pivoted = movielens.pivot_table(index = ['movie_id','title'],\n",
    "                               columns = 'gender',\n",
    "                               values = 'rating',\n",
    "                               fill_value = 0)\n",
    "pivoted.head(10)"
   ]
  },
  {
   "cell_type": "code",
   "execution_count": 127,
   "metadata": {
    "collapsed": false
   },
   "outputs": [
    {
     "data": {
      "text/html": [
       "<div>\n",
       "<table border=\"1\" class=\"dataframe\">\n",
       "  <thead>\n",
       "    <tr style=\"text-align: right;\">\n",
       "      <th></th>\n",
       "      <th>gender</th>\n",
       "      <th>F</th>\n",
       "      <th>M</th>\n",
       "      <th>diff</th>\n",
       "    </tr>\n",
       "    <tr>\n",
       "      <th>movie_id</th>\n",
       "      <th>title</th>\n",
       "      <th></th>\n",
       "      <th></th>\n",
       "      <th></th>\n",
       "    </tr>\n",
       "  </thead>\n",
       "  <tbody>\n",
       "    <tr>\n",
       "      <th>1</th>\n",
       "      <th>Toy Story (1995)</th>\n",
       "      <td>3.789916</td>\n",
       "      <td>3.909910</td>\n",
       "      <td>0.119994</td>\n",
       "    </tr>\n",
       "    <tr>\n",
       "      <th>2</th>\n",
       "      <th>GoldenEye (1995)</th>\n",
       "      <td>3.368421</td>\n",
       "      <td>3.178571</td>\n",
       "      <td>-0.189850</td>\n",
       "    </tr>\n",
       "    <tr>\n",
       "      <th>3</th>\n",
       "      <th>Four Rooms (1995)</th>\n",
       "      <td>2.687500</td>\n",
       "      <td>3.108108</td>\n",
       "      <td>0.420608</td>\n",
       "    </tr>\n",
       "    <tr>\n",
       "      <th>4</th>\n",
       "      <th>Get Shorty (1995)</th>\n",
       "      <td>3.400000</td>\n",
       "      <td>3.591463</td>\n",
       "      <td>0.191463</td>\n",
       "    </tr>\n",
       "    <tr>\n",
       "      <th>5</th>\n",
       "      <th>Copycat (1995)</th>\n",
       "      <td>3.772727</td>\n",
       "      <td>3.140625</td>\n",
       "      <td>-0.632102</td>\n",
       "    </tr>\n",
       "  </tbody>\n",
       "</table>\n",
       "</div>"
      ],
      "text/plain": [
       "gender                             F         M      diff\n",
       "movie_id title                                          \n",
       "1        Toy Story (1995)   3.789916  3.909910  0.119994\n",
       "2        GoldenEye (1995)   3.368421  3.178571 -0.189850\n",
       "3        Four Rooms (1995)  2.687500  3.108108  0.420608\n",
       "4        Get Shorty (1995)  3.400000  3.591463  0.191463\n",
       "5        Copycat (1995)     3.772727  3.140625 -0.632102"
      ]
     },
     "execution_count": 127,
     "metadata": {},
     "output_type": "execute_result"
    }
   ],
   "source": [
    "pivoted['diff'] = pivoted.M - pivoted.F\n",
    "pivoted.head(5)"
   ]
  },
  {
   "cell_type": "code",
   "execution_count": 128,
   "metadata": {
    "collapsed": true
   },
   "outputs": [],
   "source": [
    "pivoted.reset_index('movie_id', inplace = True)"
   ]
  },
  {
   "cell_type": "code",
   "execution_count": 129,
   "metadata": {
    "collapsed": false
   },
   "outputs": [
    {
     "data": {
      "text/plain": [
       "title\n",
       "Toy Story (1995)             0.119994\n",
       "Twelve Monkeys (1995)        0.300315\n",
       "Dead Man Walking (1995)     -0.043452\n",
       "Mr. Holland's Opus (1995)   -0.244160\n",
       "Braveheart (1995)            0.031136\n",
       "Name: diff, dtype: float64"
      ]
     },
     "execution_count": 129,
     "metadata": {},
     "output_type": "execute_result"
    }
   ],
   "source": [
    "disagreements = pivoted[pivoted.movie_id.isin(mostrated.index)]['diff']\n",
    "disagreements.head(5)"
   ]
  },
  {
   "cell_type": "markdown",
   "metadata": {},
   "source": [
    "Notice the use of isin. This seems to be a powerful dataframe construct."
   ]
  },
  {
   "cell_type": "code",
   "execution_count": 130,
   "metadata": {
    "collapsed": false
   },
   "outputs": [
    {
     "name": "stderr",
     "output_type": "stream",
     "text": [
      "/Users/Vivek/anaconda/lib/python2.7/site-packages/ipykernel/__main__.py:1: FutureWarning: order is deprecated, use sort_values(...)\n",
      "  if __name__ == '__main__':\n"
     ]
    },
    {
     "data": {
      "text/plain": [
       "<matplotlib.text.Text at 0x1023d1550>"
      ]
     },
     "execution_count": 130,
     "metadata": {},
     "output_type": "execute_result"
    },
    {
     "data": {
      "image/png": "[encoded data removed]",
      "text/plain": [
       "<matplotlib.figure.Figure at 0x10b39aed0>"
      ]
     },
     "metadata": {},
     "output_type": "display_data"
    }
   ],
   "source": [
    "disagreements.order().plot(kind = 'barh',figsize = [9,15])\n",
    "plt.title('Female vs Male difference in avg. ratings')\n",
    "plt.ylabel('Movie titles')\n",
    "plt.xlabel('Difference in avg. rating')"
   ]
  },
  {
   "cell_type": "code",
   "execution_count": null,
   "metadata": {
    "collapsed": true
   },
   "outputs": [],
   "source": []
  }
 ],
 "metadata": {
  "kernelspec": {
   "display_name": "Python 2",
   "language": "python",
   "name": "python2"
  },
  "language_info": {
   "codemirror_mode": {
    "name": "ipython",
    "version": 2
   },
   "file_extension": ".py",
   "mimetype": "text/x-python",
   "name": "python",
   "nbconvert_exporter": "python",
   "pygments_lexer": "ipython2",
   "version": "2.7.11"
  }
 },
 "nbformat": 4,
 "nbformat_minor": 0
}
